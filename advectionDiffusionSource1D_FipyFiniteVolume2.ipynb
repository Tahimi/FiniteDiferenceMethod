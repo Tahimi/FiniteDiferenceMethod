{
  "nbformat": 4,
  "nbformat_minor": 0,
  "metadata": {
    "colab": {
      "provenance": [],
      "authorship_tag": "ABX9TyOuSlzEnvd6QB0omJffJ2j/",
      "include_colab_link": true
    },
    "kernelspec": {
      "name": "python3",
      "display_name": "Python 3"
    },
    "language_info": {
      "name": "python"
    }
  },
  "cells": [
    {
      "cell_type": "markdown",
      "metadata": {
        "id": "view-in-github",
        "colab_type": "text"
      },
      "source": [
        "<a href=\"https://colab.research.google.com/github/Tahimi/convectionDiffusion/blob/main/advectionDiffusionSource1D_FipyFiniteVolume2.ipynb\" target=\"_parent\"><img src=\"https://colab.research.google.com/assets/colab-badge.svg\" alt=\"Open In Colab\"/></a>"
      ]
    },
    {
      "cell_type": "code",
      "source": [
        "#!pip install fipy\n",
        "# uncomment to install fipy then restart the runtime environment"
      ],
      "metadata": {
        "id": "wUSH7Kvq7IAj"
      },
      "execution_count": 1,
      "outputs": []
    },
    {
      "cell_type": "code",
      "source": [
        "import numpy as np\n",
        "from fipy import *"
      ],
      "metadata": {
        "id": "-2cCA9AX7KVb"
      },
      "execution_count": 2,
      "outputs": []
    },
    {
      "cell_type": "code",
      "source": [
        "# space discretization\n",
        "xL = 0.\n",
        "xR = 10.\n",
        "dx = 0.1\n",
        "delX = xR - xL\n",
        "nx = int(delX/dx)\n",
        "mesh = Grid1D(nx=nx, dx=dx) + xL"
      ],
      "metadata": {
        "id": "UF6mG5og7MJc"
      },
      "execution_count": 3,
      "outputs": []
    },
    {
      "cell_type": "code",
      "source": [
        "# time discretization\n",
        "# advection\n",
        "Cr = 0.2 # Courant Number: Cr = u*dt/dx\n",
        "u = 20.\n",
        "dtAdv = Cr*dx/u\n",
        "# diffusion\n",
        "Fr = 0.4 # Fourier Number: Fr = D*dt/dx**2\n",
        "D = 4.\n",
        "dtDiff = Fr*dx**2/D\n",
        "# advectionDiffusion\n",
        "dt = min(dtAdv, dtDiff)\n",
        "print('dtAdv = ', dtAdv, '\\n'\n",
        "      'dtDiff = ', dtDiff, '\\n'\n",
        "      'dt = min(dtAdv, dtDiff) = ', dt)\n",
        "# simulation time\n",
        "delT = 0.3\n",
        "stepsNbr = int(delT/dt)"
      ],
      "metadata": {
        "colab": {
          "base_uri": "https://localhost:8080/"
        },
        "id": "HEhFykAu7RCi",
        "outputId": "10a75341-ef71-4a16-e461-6c97807fbeb0"
      },
      "execution_count": 4,
      "outputs": [
        {
          "output_type": "stream",
          "name": "stdout",
          "text": [
            "dtAdv =  0.0010000000000000002 \n",
            "dtDiff =  0.0010000000000000002 \n",
            "dt = min(dtAdv, dtDiff) =  0.0010000000000000002\n"
          ]
        }
      ]
    },
    {
      "cell_type": "code",
      "source": [
        "# this function returns the center of the grid cell the closest to the source position\n",
        "def sourceCenter(sourcePos):\n",
        "    global mesh\n",
        "    x = mesh.x\n",
        "    xs1 = sourcePos\n",
        "    dist2Source = DistanceVariable(mesh=mesh,\n",
        "                                   value=numerix.sqrt((x-xs1)**2))\n",
        "    sourceClosestCellMask = (dist2Source == dist2Source.min())\n",
        "    xcs, *_ = x[sourceClosestCellMask]\n",
        "    return xcs"
      ],
      "metadata": {
        "id": "LupsrEuKE0Ud"
      },
      "execution_count": 5,
      "outputs": []
    },
    {
      "cell_type": "code",
      "source": [
        "# this function make a selection of all the grid cells making the source\n",
        "def sourceMask(xcs, width=0.):\n",
        "    global mesh\n",
        "    x = mesh.x\n",
        "    ds = DistanceVariable(mesh=mesh,\n",
        "                          value=numerix.sqrt((x-xcs)**2))\n",
        "    return (ds <= width)"
      ],
      "metadata": {
        "id": "J_MqZPb6FJFc"
      },
      "execution_count": 6,
      "outputs": []
    },
    {
      "cell_type": "code",
      "source": [
        "# initialization\n",
        "s1Pos = (2.21,)\n",
        "s1Width = 4*dx\n",
        "yMin, yMax = 0., 1.\n",
        "\n",
        "def initialize():\n",
        "    # preparing the SourceTerm\n",
        "    global s1Pos, s1Width, yMax\n",
        "    xcs1 = sourceCenter(sourcePos=s1Pos)\n",
        "    #s1Mask = sourceMask(xcs=xcs1)\n",
        "    s1Mask = sourceMask(xcs=xcs1, width=s1Width)\n",
        "    s1Value = yMax\n",
        "\n",
        "    # unkown's initialization\n",
        "    global mesh, yMin, yInit, y\n",
        "    yInit = CellVariable(mesh=mesh, value=yMin)\n",
        "    yInit.setValue(s1Value, where=s1Mask)\n",
        "    y = CellVariable(mesh=mesh, value=yInit)\n",
        "\n",
        "    # Applying noFlow BC\n",
        "    y.faceGrad.constrain((0,), where=mesh.exteriorFaces)\n",
        "\n",
        "    # Defining the discritized equation\n",
        "    global u, D, eq\n",
        "    eq = (TransientTerm(coeff=1.0)\n",
        "       + PowerLawConvectionTerm(coeff=(u,))\n",
        "       == DiffusionTerm(coeff=D)\n",
        "       - ImplicitSourceTerm(s1Mask * 1e+10) + s1Mask * 1e+10 * s1Value)"
      ],
      "metadata": {
        "id": "tMjp7nS87XQP"
      },
      "execution_count": 7,
      "outputs": []
    },
    {
      "cell_type": "code",
      "source": [
        "# defining the time-step update function\n",
        "def advectAndDiffuse1(y, dt):\n",
        "    eq.solve(var=y, dt=dt)"
      ],
      "metadata": {
        "id": "A4My-HhS9aYZ"
      },
      "execution_count": 8,
      "outputs": []
    },
    {
      "cell_type": "code",
      "source": [
        "# displaying some parameters\n",
        "print('dx = ', \"{:.2e}\".format(dx), '\\n'\n",
        "      'delX = ', delX, '\\n'\n",
        "      'nx = ', nx, '\\n'\n",
        "      'Cr = ', Cr, '\\n'\n",
        "      'u = ', u, '\\n'\n",
        "      'dtAdv = ', \"{:.2e}\".format(dtAdv), '\\n'\n",
        "      'Fr = ', Fr, '\\n'\n",
        "      'D = ', D, '\\n'\n",
        "      'dtDiff = ', \"{:.2e}\".format(dtDiff), '\\n'\n",
        "      'dt = min(dtAdv,dtDiff) = ', \"{:.2e}\".format(dt), '\\n'\n",
        "      'delT = ', delT, '\\n'\n",
        "      'stepsNbr = ', stepsNbr)"
      ],
      "metadata": {
        "colab": {
          "base_uri": "https://localhost:8080/"
        },
        "id": "W8-qUj9Y9gE5",
        "outputId": "84676242-897f-4072-d060-14cb2c103613"
      },
      "execution_count": 9,
      "outputs": [
        {
          "output_type": "stream",
          "name": "stdout",
          "text": [
            "dx =  1.00e-01 \n",
            "delX =  10.0 \n",
            "nx =  100 \n",
            "Cr =  0.2 \n",
            "u =  20.0 \n",
            "dtAdv =  1.00e-03 \n",
            "Fr =  0.4 \n",
            "D =  4.0 \n",
            "dtDiff =  1.00e-03 \n",
            "dt = min(dtAdv,dtDiff) =  1.00e-03 \n",
            "delT =  0.3 \n",
            "stepsNbr =  299\n"
          ]
        }
      ]
    },
    {
      "cell_type": "code",
      "source": [
        "# initialize and iterate in time\n",
        "initialize()\n",
        "for step in range(stepsNbr):\n",
        "    eq.solve(var=y, dt=dt)"
      ],
      "metadata": {
        "id": "vRo8QRXZ9j-Z"
      },
      "execution_count": 10,
      "outputs": []
    },
    {
      "cell_type": "code",
      "source": [
        "# ploting the unkown's initial distribution\n",
        "viewer = Viewer(vars = (yInit),\n",
        "                datamin = yInit.min()-.1,\n",
        "                datamax = yInit.max()+.1)\n",
        "viewer.plot()"
      ],
      "metadata": {
        "colab": {
          "base_uri": "https://localhost:8080/",
          "height": 430
        },
        "id": "yJg0gfTCIBhD",
        "outputId": "7d1b9e0a-d91b-4bf1-bc65-74d892420f0e"
      },
      "execution_count": 11,
      "outputs": [
        {
          "output_type": "display_data",
          "data": {
            "text/plain": [
              "<Figure size 480x480 with 1 Axes>"
            ],
            "image/png": "[encoded data removed]"
          },
          "metadata": {}
        }
      ]
    },
    {
      "cell_type": "code",
      "execution_count": 12,
      "metadata": {
        "id": "vZMZ63bI-1fi",
        "colab": {
          "base_uri": "https://localhost:8080/",
          "height": 447
        },
        "outputId": "a09b350a-eacd-4de8-c6c7-d617a2c5e8b2"
      },
      "outputs": [
        {
          "output_type": "stream",
          "name": "stdout",
          "text": [
            "After 0.29900000000000004  (sec)\n"
          ]
        },
        {
          "output_type": "display_data",
          "data": {
            "text/plain": [
              "<Figure size 480x480 with 1 Axes>"
            ],
            "image/png": "[encoded data removed]"
          },
          "metadata": {}
        }
      ],
      "source": [
        "# ploting the unkown's final distribution\n",
        "print('After', dt*stepsNbr, ' (sec)')\n",
        "viewer = Viewer(vars = (y),\n",
        "                datamin = y.min()-.1,\n",
        "                datamax = y.max()+.1)\n",
        "viewer.plot()"
      ]
    }
  ]
}