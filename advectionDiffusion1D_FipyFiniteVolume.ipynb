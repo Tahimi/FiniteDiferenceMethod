{
  "nbformat": 4,
  "nbformat_minor": 0,
  "metadata": {
    "colab": {
      "provenance": [],
      "authorship_tag": "ABX9TyNycdH+CUiQtAMjUHbSyHij",
      "include_colab_link": true
    },
    "kernelspec": {
      "name": "python3",
      "display_name": "Python 3"
    },
    "language_info": {
      "name": "python"
    }
  },
  "cells": [
    {
      "cell_type": "markdown",
      "metadata": {
        "id": "view-in-github",
        "colab_type": "text"
      },
      "source": [
        "<a href=\"https://colab.research.google.com/github/Tahimi/convectionDiffusion/blob/main/advectionDiffusion1D_FipyFiniteVolume.ipynb\" target=\"_parent\"><img src=\"https://colab.research.google.com/assets/colab-badge.svg\" alt=\"Open In Colab\"/></a>"
      ]
    },
    {
      "cell_type": "code",
      "source": [
        "#!pip install fipy\n",
        "# uncomment to install fipy then restart the runtime environment"
      ],
      "metadata": {
        "id": "ISvSj6D72khx"
      },
      "execution_count": 1,
      "outputs": []
    },
    {
      "cell_type": "code",
      "source": [
        "import numpy as np\n",
        "from fipy import *"
      ],
      "metadata": {
        "id": "EFH2VsbN2ogG"
      },
      "execution_count": 2,
      "outputs": []
    },
    {
      "cell_type": "code",
      "source": [
        "# space discretization\n",
        "xL = 0.\n",
        "xR = 10.\n",
        "dx = 0.1\n",
        "delX = xR - xL\n",
        "nx = int(delX/dx)\n",
        "mesh = Grid1D(nx=nx, dx=dx) + xL"
      ],
      "metadata": {
        "id": "oabRSP2x2pKs"
      },
      "execution_count": 3,
      "outputs": []
    },
    {
      "cell_type": "code",
      "source": [
        "# time discretization\n",
        "# advection\n",
        "Cr = 0.2 # Courant Number: Cr = u*dt/dx\n",
        "u = 20.\n",
        "dtAdv = Cr*dx/u\n",
        "# diffusion\n",
        "Fr = 0.4 # Fourier Number: Fr = D*dt/dx**2\n",
        "D = 4.\n",
        "dtDiff = Fr*dx**2/D\n",
        "# advectionDiffusion\n",
        "dt = min(dtAdv, dtDiff)\n",
        "print('dtAdv = ', dtAdv, '\\n'\n",
        "      'dtDiff = ', dtDiff, '\\n'\n",
        "      'dt = min(dtAdv, dtDiff) = ', dt)\n",
        "# simulation time\n",
        "delT = 0.3\n",
        "stepsNbr = int(delT/dt)"
      ],
      "metadata": {
        "colab": {
          "base_uri": "https://localhost:8080/"
        },
        "id": "nXptcwcc2qpM",
        "outputId": "25d30d10-f441-4094-a821-487cdbc4a186"
      },
      "execution_count": 4,
      "outputs": [
        {
          "output_type": "stream",
          "name": "stdout",
          "text": [
            "dtAdv =  0.0010000000000000002 \n",
            "dtDiff =  0.0010000000000000002 \n",
            "dt = min(dtAdv, dtDiff) =  0.0010000000000000002\n"
          ]
        }
      ]
    },
    {
      "cell_type": "code",
      "source": [
        "# defining the unkown's distribution\n",
        "def distributionIn1D(x, yMin, yMax, xc, width, isRectangular = True):\n",
        "  if isRectangular:\n",
        "    # rectangular distribuition\n",
        "    return np.array([yMax if xc-width < xi and xi < xc+width else yMin for xi in x])\n",
        "  else:\n",
        "    # Gaussian distribuition\n",
        "    return yMin + yMax * np.exp(-(x - xc) ** 2 / (2 * width ** 2))"
      ],
      "metadata": {
        "id": "s1wz3KYO2tCz"
      },
      "execution_count": 5,
      "outputs": []
    },
    {
      "cell_type": "code",
      "source": [
        "# initialization\n",
        "yMin = 0.\n",
        "yMax = 1.\n",
        "xc = 2.5\n",
        "width = 0.5\n",
        "\n",
        "def initialize():\n",
        "    # unkown's initialization\n",
        "    global mesh, yMin, yMax, xc, width, yInit, y\n",
        "    yInitValue = CellVariable(mesh=mesh,\n",
        "                              value=distributionIn1D(x=mesh.x,\n",
        "                                                     yMin=yMin,\n",
        "                                                     yMax=yMax,\n",
        "                                                     xc=xc,\n",
        "                                                     width=width,\n",
        "                                                     isRectangular = False))\n",
        "    yInit = CellVariable(mesh=mesh, value=yInitValue)\n",
        "    y = CellVariable(mesh=mesh, value=yInit)\n",
        "\n",
        "    # Applying noFlow BC\n",
        "    y.faceGrad.constrain((0,), where=mesh.exteriorFaces)\n",
        "\n",
        "    # Defining the discritized equation\n",
        "    global u, eq\n",
        "    convCoeff = (u,)\n",
        "    eq = (TransientTerm(coeff=1.0) + PowerLawConvectionTerm(coeff=convCoeff)\n",
        "       == DiffusionTerm(coeff=D))"
      ],
      "metadata": {
        "id": "T-Me_Pl43W_S"
      },
      "execution_count": 6,
      "outputs": []
    },
    {
      "cell_type": "code",
      "source": [
        "# defining the time-step update function\n",
        "def advectAndDiffuse1(y, dt):\n",
        "    eq.solve(var=y, dt=dt)"
      ],
      "metadata": {
        "id": "xnf2ykwj4SId"
      },
      "execution_count": 7,
      "outputs": []
    },
    {
      "cell_type": "code",
      "source": [
        "# displaying some parameters\n",
        "print('dx = ', dx, '\\n'\n",
        "      'delX = ', delX, '\\n'\n",
        "      'nx = ', nx, '\\n'\n",
        "      'Cr = ', Cr, '\\n'\n",
        "      'u = ', u, '\\n'\n",
        "      'dtAdv = ', dtAdv, '\\n'\n",
        "      'Fr = ', Fr, '\\n'\n",
        "      'D = ', D, '\\n'\n",
        "      'dtDiff = ', dtDiff, '\\n'\n",
        "      'dt = min(dtAdv,dtDiff) = ', dt, '\\n'\n",
        "      'delT = ', delT, '\\n'\n",
        "      'stepsNbr = ', stepsNbr)"
      ],
      "metadata": {
        "colab": {
          "base_uri": "https://localhost:8080/"
        },
        "id": "Ol3veaDW4ahE",
        "outputId": "f8c269fd-e296-43fb-f44d-72bd8bd13c3a"
      },
      "execution_count": 8,
      "outputs": [
        {
          "output_type": "stream",
          "name": "stdout",
          "text": [
            "dx =  0.1 \n",
            "delX =  10.0 \n",
            "nx =  100 \n",
            "Cr =  0.2 \n",
            "u =  20.0 \n",
            "dtAdv =  0.0010000000000000002 \n",
            "Fr =  0.4 \n",
            "D =  4.0 \n",
            "dtDiff =  0.0010000000000000002 \n",
            "dt = min(dtAdv,dtDiff) =  0.0010000000000000002 \n",
            "delT =  0.3 \n",
            "stepsNbr =  299\n"
          ]
        }
      ]
    },
    {
      "cell_type": "code",
      "source": [
        "# initialize and iterate in time\n",
        "initialize()\n",
        "for step in range(stepsNbr):\n",
        "    eq.solve(var=y, dt=dt)"
      ],
      "metadata": {
        "id": "lCSxkAk64gsd"
      },
      "execution_count": 9,
      "outputs": []
    },
    {
      "cell_type": "code",
      "execution_count": 10,
      "metadata": {
        "colab": {
          "base_uri": "https://localhost:8080/",
          "height": 430
        },
        "id": "iYG_CBXCxyzX",
        "outputId": "4d4865f4-6800-4a5d-e67b-1c2b4984a6fb"
      },
      "outputs": [
        {
          "output_type": "display_data",
          "data": {
            "text/plain": [
              "<Figure size 480x480 with 1 Axes>"
            ],
            "image/png": "[encoded data removed]"
          },
          "metadata": {}
        }
      ],
      "source": [
        "# ploting the simulation results\n",
        "yImagValue = distributionIn1D(x=mesh.x,\n",
        "                              yMin=yMin,\n",
        "                              yMax=yMax,\n",
        "                              xc=xc+u*stepsNbr*dt,\n",
        "                              width=width,\n",
        "                              isRectangular = False)\n",
        "yImag = CellVariable(mesh=mesh, value=yImagValue)\n",
        "viewer = Viewer(vars = (yInit, yImag, y),\n",
        "                datamin = min(yInit.min(), y.min())-.1,\n",
        "                datamax = max(yInit.max(), y.max())+.1)\n",
        "viewer.plot()"
      ]
    }
  ]
}