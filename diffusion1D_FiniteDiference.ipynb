{
  "nbformat": 4,
  "nbformat_minor": 0,
  "metadata": {
    "colab": {
      "provenance": [],
      "authorship_tag": "ABX9TyPk2mYz4Vre3mudzPpJttZn",
      "include_colab_link": true
    },
    "kernelspec": {
      "name": "python3",
      "display_name": "Python 3"
    },
    "language_info": {
      "name": "python"
    }
  },
  "cells": [
    {
      "cell_type": "markdown",
      "metadata": {
        "id": "view-in-github",
        "colab_type": "text"
      },
      "source": [
        "<a href=\"https://colab.research.google.com/github/Tahimi/FiniteDiferenceMethod/blob/main/diffusion1D_FiniteDiference.ipynb\" target=\"_parent\"><img src=\"https://colab.research.google.com/assets/colab-badge.svg\" alt=\"Open In Colab\"/></a>"
      ]
    },
    {
      "cell_type": "code",
      "source": [
        "import numpy as np"
      ],
      "metadata": {
        "id": "SFjfdkBhcepf"
      },
      "execution_count": 1,
      "outputs": []
    },
    {
      "cell_type": "code",
      "source": [
        "# space discretization\n",
        "xL = 0.\n",
        "xR = 50.\n",
        "dx = 0.5\n",
        "delX = xR - xL\n",
        "nx = int(delX/dx) #100\n",
        "x = np.linspace(xL, xR, nx+1) # [x0, x1, ..., x100]"
      ],
      "metadata": {
        "id": "nG6S4ed2ciyR"
      },
      "execution_count": 2,
      "outputs": []
    },
    {
      "cell_type": "code",
      "source": [
        "# time discretization\n",
        "Fr = 0.5 # Fourier Number: Fr = D*dt/dx**2\n",
        "D = 10.\n",
        "dt = Fr*dx**2/D\n",
        "delT = 5.\n",
        "stepsNbr = int(delT/dt)"
      ],
      "metadata": {
        "id": "6OI5qZNHcl2K"
      },
      "execution_count": 3,
      "outputs": []
    },
    {
      "cell_type": "code",
      "source": [
        "# defining the unkown's distribution\n",
        "def distributionIn1D(x, yMin, yMax, xc, width, isRectangular = True):\n",
        "  if isRectangular:\n",
        "    # rectangular distribuition\n",
        "    return np.array([yMax if xc-width < xi and xi < xc+width else yMin for xi in x])\n",
        "  else:\n",
        "    # Gaussian distribuition\n",
        "    return yMin + yMax * np.exp(-(x - xc) ** 2 / (2 * width ** 2))"
      ],
      "metadata": {
        "id": "31MzJ3hqcpqG"
      },
      "execution_count": 4,
      "outputs": []
    },
    {
      "cell_type": "code",
      "source": [
        "def initialize():\n",
        "    # unkown's initialization\n",
        "    global yMin, yMax, yInit, y\n",
        "    yMin = 0.\n",
        "    yMax = 1.\n",
        "    xc = 25.\n",
        "    width = 2.\n",
        "    yInit = distributionIn1D(x=x,\n",
        "                             yMin=yMin,\n",
        "                             yMax=yMax,\n",
        "                             xc=xc,\n",
        "                             width=width,\n",
        "                             isRectangular=False)\n",
        "    y = np.copy(yInit)"
      ],
      "metadata": {
        "id": "yMSgdr-Gc127"
      },
      "execution_count": 5,
      "outputs": []
    },
    {
      "cell_type": "code",
      "source": [
        "# defining the time-step update function for the\n",
        "# ExplicitFirstOrderDiffusionFiniteDiferenceScheme\n",
        "# ForwardFirstOrderAccurateInTime\n",
        "# centredSecondOrderAccurateInSpace\n",
        "def diffuse1(yIN, Fr):\n",
        "  yOUT = np.zeros_like(yIN)\n",
        "  # internal points\n",
        "  for i in range(1,len(x)-1):\n",
        "    yOUT[i] = Fr*yIN[i-1] + (1.-2*Fr)*yIN[i] + Fr*yIN[i+1]\n",
        "  # closed BC (Neumann), no leaving material, i.e. grad(y) = 0\n",
        "  yOUT[0] = (1.-2*Fr)*yIN[0] + 2.*Fr*yIN[1]\n",
        "  yOUT[-1] = 2.*Fr*yIN[-2] + (1.-2*Fr)*yIN[-1]\n",
        "  return yOUT"
      ],
      "metadata": {
        "id": "6F2JlbCXd5EF"
      },
      "execution_count": 6,
      "outputs": []
    },
    {
      "cell_type": "code",
      "source": [
        "# displaying the parameters\n",
        "print('dx = ', dx, '\\n'\n",
        "      'delX = ', delX, '\\n'\n",
        "      'nx = ', nx, '\\n'\n",
        "      'Fr = ', Fr, '\\n'\n",
        "      'D = ', D, '\\n'\n",
        "      'dt = ', dt, '\\n'\n",
        "      'delT = ', delT, '\\n'\n",
        "      'stepsNbr = ', stepsNbr)"
      ],
      "metadata": {
        "colab": {
          "base_uri": "https://localhost:8080/"
        },
        "id": "AI5g80yUeRxj",
        "outputId": "b642b1af-2671-4bbe-98c7-efee5816eaa1"
      },
      "execution_count": 7,
      "outputs": [
        {
          "output_type": "stream",
          "name": "stdout",
          "text": [
            "dx =  0.5 \n",
            "delX =  50.0 \n",
            "nx =  100 \n",
            "Fr =  0.5 \n",
            "D =  10.0 \n",
            "dt =  0.0125 \n",
            "delT =  5.0 \n",
            "stepsNbr =  400\n"
          ]
        }
      ]
    },
    {
      "cell_type": "code",
      "source": [
        "# initialize and iterate in time\n",
        "initialize()\n",
        "for step in range(stepsNbr):\n",
        "  y = diffuse1(y, Fr)"
      ],
      "metadata": {
        "id": "hHWcaXGDefLk"
      },
      "execution_count": 8,
      "outputs": []
    },
    {
      "cell_type": "code",
      "execution_count": 9,
      "metadata": {
        "colab": {
          "base_uri": "https://localhost:8080/",
          "height": 430
        },
        "id": "t-4iBSE3Jp1Z",
        "outputId": "5b1c1af9-66cc-4c9b-bf67-59de2fe01586"
      },
      "outputs": [
        {
          "output_type": "display_data",
          "data": {
            "text/plain": [
              "<Figure size 640x480 with 1 Axes>"
            ],
            "image/png": "[encoded data removed]"
          },
          "metadata": {}
        }
      ],
      "source": [
        "#ploting the simulation results\n",
        "import matplotlib.pyplot as plt\n",
        "plt.style.use(\"ggplot\")\n",
        "plt.xticks(np.arange(xL, xR+.1, 5))\n",
        "plt.yticks(np.arange(yMin, yMax+.1, .1))\n",
        "plt.plot(x, yInit, label='yInit')\n",
        "plt.plot(x, y, label='y')\n",
        "plt.legend()\n",
        "plt.show()"
      ]
    }
  ]
}