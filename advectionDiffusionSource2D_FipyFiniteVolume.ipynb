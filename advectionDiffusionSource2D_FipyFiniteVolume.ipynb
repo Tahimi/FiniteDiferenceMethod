{
  "nbformat": 4,
  "nbformat_minor": 0,
  "metadata": {
    "colab": {
      "provenance": [],
      "authorship_tag": "ABX9TyPD7Dpkje0uH1W2DY62ngBF",
      "include_colab_link": true
    },
    "kernelspec": {
      "name": "python3",
      "display_name": "Python 3"
    },
    "language_info": {
      "name": "python"
    }
  },
  "cells": [
    {
      "cell_type": "markdown",
      "metadata": {
        "id": "view-in-github",
        "colab_type": "text"
      },
      "source": [
        "<a href=\"https://colab.research.google.com/github/Tahimi/convectionDiffusion/blob/main/advectionDiffusionSource2D_FipyFiniteVolume.ipynb\" target=\"_parent\"><img src=\"https://colab.research.google.com/assets/colab-badge.svg\" alt=\"Open In Colab\"/></a>"
      ]
    },
    {
      "cell_type": "code",
      "source": [
        "#!pip install fipy\n",
        "# uncomment to install fipy, restart (runtime env.) and execute all"
      ],
      "metadata": {
        "id": "5g0dLkSxhB3l"
      },
      "execution_count": 1,
      "outputs": []
    },
    {
      "cell_type": "code",
      "source": [
        "import numpy as np\n",
        "from fipy import *"
      ],
      "metadata": {
        "id": "bWpu9LbZhEhh"
      },
      "execution_count": 2,
      "outputs": []
    },
    {
      "cell_type": "code",
      "source": [
        "# space discretization\n",
        "w = h = 1000 # m\n",
        "dx = dy = 10 # m\n",
        "nx, ny = int(w/dx), int(h/dy)\n",
        "mesh = Grid2D(nx=nx, dx=dx, ny=ny, dy=dy)\n",
        "print('cellsNbr = ', mesh.globalNumberOfCells)"
      ],
      "metadata": {
        "colab": {
          "base_uri": "https://localhost:8080/"
        },
        "id": "mm4Xqi3mhFGH",
        "outputId": "33da974b-0dc2-47d7-bc12-4bba3dd35157"
      },
      "execution_count": 3,
      "outputs": [
        {
          "output_type": "stream",
          "name": "stdout",
          "text": [
            "cellsNbr =  10000\n"
          ]
        }
      ]
    },
    {
      "cell_type": "code",
      "source": [
        "# time discretization\n",
        "# advection\n",
        "vx = vy = 2. # m/s\n",
        "Cr = 0.8 # Courant Number: Cr = u*dt/dx\n",
        "dtAdv = abs(Cr*dx/max(vx,vy))\n",
        "# diffusion\n",
        "Fr = 0.5 # Fourier Number: Fr = D*dt/dx**2\n",
        "D = 20.\n",
        "dtDiff = abs(Fr*dx**2/D)\n",
        "# advectionDiffusion\n",
        "dt = min(dtAdv,dtDiff)\n",
        "delT = 5*60. # sec\n",
        "stepsNbr = int(delT/dt)"
      ],
      "metadata": {
        "id": "ge13VatxhHFw"
      },
      "execution_count": 4,
      "outputs": []
    },
    {
      "cell_type": "code",
      "source": [
        "def sourceCenter(sourcePos):\n",
        "    global mesh\n",
        "    x, y = mesh.x, mesh.y\n",
        "    xs1, ys1 = sourcePos\n",
        "    dist2Source = DistanceVariable(mesh=mesh,\n",
        "                                   value=numerix.sqrt((x-xs1)**2+(y-ys1)**2))\n",
        "    sourceClosestCellMask = (dist2Source == dist2Source.min())\n",
        "    xcs, *_ = x[sourceClosestCellMask]\n",
        "    ycs, *_ = y[sourceClosestCellMask]\n",
        "    return (xcs, ycs)"
      ],
      "metadata": {
        "id": "Dlk-0GMihomE"
      },
      "execution_count": 5,
      "outputs": []
    },
    {
      "cell_type": "code",
      "source": [
        "def sourceMask(xcs, ycs, width, isRectangular = False):\n",
        "    global mesh\n",
        "    x, y = mesh.x, mesh.y\n",
        "    # the source shape is rectangular\n",
        "    if isRectangular:\n",
        "        return ((xcs-width<x) & (x<xcs+width) \\\n",
        "              & (ycs-width<y) & (y<ycs+width))\n",
        "    # the source shape is circular\n",
        "    else:\n",
        "        ds = DistanceVariable(mesh=mesh,\n",
        "                              value=numerix.sqrt((x-xcs)**2+(y-ycs)**2))\n",
        "        return (ds <= width)"
      ],
      "metadata": {
        "id": "0o0nYCYPhHTg"
      },
      "execution_count": 6,
      "outputs": []
    },
    {
      "cell_type": "code",
      "source": [
        "# initialization\n",
        "zMin, zMax = 200., 1200.\n",
        "s1Pos = (250, 250)\n",
        "s1Width = 40\n",
        "\n",
        "def initialize():\n",
        "    # preparing the SourceTerm\n",
        "    global s1Pos, s1Width\n",
        "    xcs1, ycs1 = sourceCenter(s1Pos)\n",
        "    s1Mask = sourceMask(xcs=xcs1,\n",
        "                        ycs=ycs1,\n",
        "                        width=s1Width,\n",
        "                        isRectangular=False)\n",
        "\n",
        "    # unkown's initialization\n",
        "    global mesh, zMin, zMax, zInit, z\n",
        "    zInit = CellVariable(mesh=mesh, value=zMin)\n",
        "    zInit.setValue(zMax, where=s1Mask)\n",
        "    z = CellVariable(mesh=mesh, value=zInit)\n",
        "\n",
        "    # Applying noFlow BC\n",
        "    z.faceGrad.constrain((0.,), where=mesh.exteriorFaces)\n",
        "\n",
        "    # Defining the discritized equation\n",
        "    global vx, vy, D, eq\n",
        "    eq = (TransientTerm(coeff=1.0) + PowerLawConvectionTerm(coeff=(vx,vy))\n",
        "       == DiffusionTerm(coeff=D)\n",
        "       - ImplicitSourceTerm(s1Mask * 1e+10) + s1Mask * 1e+10 * zMax)"
      ],
      "metadata": {
        "id": "7ZdK7GrKklAY"
      },
      "execution_count": 7,
      "outputs": []
    },
    {
      "cell_type": "code",
      "source": [
        "# defining the time-step update function\n",
        "def advectAndDiffuse1(z, dt):\n",
        "    eq.solve(var=z, dt=dt)"
      ],
      "metadata": {
        "id": "Ee2PwaVhmi7J"
      },
      "execution_count": 8,
      "outputs": []
    },
    {
      "cell_type": "code",
      "source": [
        "# display some parameters\n",
        "print('dx = ', dx, '\\n'\n",
        "      'dy = ', dy, '\\n'\n",
        "      'vx = ', vx, '\\n'\n",
        "      'vy = ', vy, '\\n'\n",
        "      'Cr = ', Cr, '\\n'\n",
        "      'dtAdv = ', dt, '\\n'\n",
        "      'D = ', D, '\\n'\n",
        "      'Fr = ', Fr, '\\n'\n",
        "      'dtDiff = ', dt, '\\n'\n",
        "      'dt = min(dtAdv,dtDiff) = ', dt, '\\n'\n",
        "      'stepsNbr = ', stepsNbr)"
      ],
      "metadata": {
        "colab": {
          "base_uri": "https://localhost:8080/"
        },
        "id": "bMVI6v5Vml1V",
        "outputId": "1cf0eaf3-8a6d-4cf7-ca5f-22eb17b42e9c"
      },
      "execution_count": 9,
      "outputs": [
        {
          "output_type": "stream",
          "name": "stdout",
          "text": [
            "dx =  10 \n",
            "dy =  10 \n",
            "vx =  2.0 \n",
            "vy =  2.0 \n",
            "Cr =  0.8 \n",
            "dtAdv =  2.5 \n",
            "D =  20.0 \n",
            "Fr =  0.5 \n",
            "dtDiff =  2.5 \n",
            "dt = min(dtAdv,dtDiff) =  2.5 \n",
            "stepsNbr =  120\n"
          ]
        }
      ]
    },
    {
      "cell_type": "code",
      "source": [
        "# initialize and iterate in time\n",
        "initialize()\n",
        "for step in range(stepsNbr):\n",
        "    advectAndDiffuse1(z, dt)"
      ],
      "metadata": {
        "id": "-uTMkGzHmrtI"
      },
      "execution_count": 10,
      "outputs": []
    },
    {
      "cell_type": "code",
      "source": [
        "# ploting the unkown's initial distribution\n",
        "viewer = Viewer(vars = (zInit),\n",
        "                datamin = zInit.min()-.1,\n",
        "                datamax = zInit.max()+.1)\n",
        "viewer.plot()"
      ],
      "metadata": {
        "colab": {
          "base_uri": "https://localhost:8080/",
          "height": 435
        },
        "id": "kVYFwoqymzm7",
        "outputId": "75a0adbb-3d74-438d-fc9e-e207524cd2db"
      },
      "execution_count": 11,
      "outputs": [
        {
          "output_type": "display_data",
          "data": {
            "text/plain": [
              "<Figure size 600x480 with 2 Axes>"
            ],
            "image/png": "[encoded data removed]"
          },
          "metadata": {}
        }
      ]
    },
    {
      "cell_type": "code",
      "source": [
        "# ploting the unkown's final distribution\n",
        "print('After', dt*stepsNbr, ' (sec)')\n",
        "viewer = Viewer(vars = (z),\n",
        "                datamin = z.min()-.1,\n",
        "                datamax = z.max()+.1)\n",
        "viewer.plot()"
      ],
      "metadata": {
        "colab": {
          "base_uri": "https://localhost:8080/",
          "height": 452
        },
        "id": "bOc3GrASm29s",
        "outputId": "ca6a18ca-fe0f-472b-9099-e853da4fa577"
      },
      "execution_count": 12,
      "outputs": [
        {
          "output_type": "stream",
          "name": "stdout",
          "text": [
            "After 300.0  (sec)\n"
          ]
        },
        {
          "output_type": "display_data",
          "data": {
            "text/plain": [
              "<Figure size 600x480 with 2 Axes>"
            ],
            "image/png": "[encoded data removed]"
          },
          "metadata": {}
        }
      ]
    }
  ]
}