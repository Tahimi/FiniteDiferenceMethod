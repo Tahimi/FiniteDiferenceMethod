{
  "nbformat": 4,
  "nbformat_minor": 0,
  "metadata": {
    "colab": {
      "provenance": [],
      "authorship_tag": "ABX9TyN9MnavgCPiIKN+CL6aLqJy",
      "include_colab_link": true
    },
    "kernelspec": {
      "name": "python3",
      "display_name": "Python 3"
    },
    "language_info": {
      "name": "python"
    }
  },
  "cells": [
    {
      "cell_type": "markdown",
      "metadata": {
        "id": "view-in-github",
        "colab_type": "text"
      },
      "source": [
        "<a href=\"https://colab.research.google.com/github/Tahimi/FiniteDiferenceMethod/blob/main/diffusion1D_FipyFiniteVolume.ipynb\" target=\"_parent\"><img src=\"https://colab.research.google.com/assets/colab-badge.svg\" alt=\"Open In Colab\"/></a>"
      ]
    },
    {
      "cell_type": "code",
      "source": [
        "#!pip install fipy\n",
        "# uncomment to install fipy then restart the runtime environment"
      ],
      "metadata": {
        "id": "2nhuJlHFlR46"
      },
      "execution_count": 1,
      "outputs": []
    },
    {
      "cell_type": "code",
      "source": [
        "import numpy as np\n",
        "from fipy import *"
      ],
      "metadata": {
        "id": "0SR2JBN4iUlO"
      },
      "execution_count": 2,
      "outputs": []
    },
    {
      "cell_type": "code",
      "source": [
        "# space discretization\n",
        "xL = 0.\n",
        "xR = 50.\n",
        "dx = 0.5\n",
        "delX = xR - xL\n",
        "nx = int(delX/dx)\n",
        "mesh = Grid1D(nx=nx, dx=dx) + xL"
      ],
      "metadata": {
        "id": "pXu3q6PIiXsP"
      },
      "execution_count": 3,
      "outputs": []
    },
    {
      "cell_type": "code",
      "source": [
        "# time discretization\n",
        "Fr = 0.5 # Fourier Number: Fr = D*dt/dx**2\n",
        "D = 10.\n",
        "dt = Fr*dx**2/D\n",
        "delT = 5.\n",
        "stepsNbr = int(delT/dt)"
      ],
      "metadata": {
        "id": "Ha5ap3vliaKY"
      },
      "execution_count": 4,
      "outputs": []
    },
    {
      "cell_type": "code",
      "source": [
        "# defining the unkown's distribution\n",
        "def distributionIn1D(x, yMin, yMax, xc, width, isRectangular = True):\n",
        "  if isRectangular:\n",
        "    # rectangular distribuition\n",
        "    return np.array([yMax if xc-width < xi and xi < xc+width else yMin for xi in x])\n",
        "  else:\n",
        "    # Gaussian distribuition\n",
        "    return yMin + yMax * np.exp(-(x - xc) ** 2 / (2 * width ** 2))"
      ],
      "metadata": {
        "id": "5lte5SBOioP3"
      },
      "execution_count": 5,
      "outputs": []
    },
    {
      "cell_type": "code",
      "source": [
        "def initialize():\n",
        "    # unkown's initialization\n",
        "    global mesh, yMin, yMax, yInit, y, D, eq\n",
        "    yMin = 0.\n",
        "    yMax = 1.\n",
        "    xc = 25.\n",
        "    width = 2.\n",
        "    yInitValue = distributionIn1D(x=mesh.x,\n",
        "                                  yMin=yMin,\n",
        "                                  yMax=yMax,\n",
        "                                  xc=xc,\n",
        "                                  width=width,\n",
        "                                  isRectangular=False)\n",
        "    yInit = CellVariable(mesh=mesh, value=yInitValue)\n",
        "    y = CellVariable(mesh=mesh, value=yInit)\n",
        "\n",
        "    # applying the BCs and defining the discritized eq.\n",
        "    # closed BC (Neumann), no leaving material, i.e. grad(y) = 0\n",
        "    y.faceGrad.constrain((0,), where=mesh.exteriorFaces)\n",
        "\n",
        "    # Defining the discritized equation\n",
        "    eq = TransientTerm() == ExplicitDiffusionTerm(coeff=D)"
      ],
      "metadata": {
        "id": "mwkOIE0djG17"
      },
      "execution_count": 6,
      "outputs": []
    },
    {
      "cell_type": "code",
      "source": [
        "# defining the time-step update function for the\n",
        "def diffuse1(y, dt):\n",
        "    eq.solve(var=y, dt=dt)"
      ],
      "metadata": {
        "id": "huGxuK9yjH8E"
      },
      "execution_count": 7,
      "outputs": []
    },
    {
      "cell_type": "code",
      "source": [
        "# displaying some parameters\n",
        "print('dx = ', dx, '\\n'\n",
        "      'delX = ', delX, '\\n'\n",
        "      'nx = ', nx, '\\n'\n",
        "      'Fr = ', Fr, '\\n'\n",
        "      'D = ', D, '\\n'\n",
        "      'dt = ', dt, '\\n'\n",
        "      'delT = ', delT, '\\n'\n",
        "      'stepsNbr = ', stepsNbr)"
      ],
      "metadata": {
        "colab": {
          "base_uri": "https://localhost:8080/"
        },
        "id": "UGdnfxP9jsOa",
        "outputId": "dbe340e6-2d99-4bf1-c33c-946119eb6381"
      },
      "execution_count": 8,
      "outputs": [
        {
          "output_type": "stream",
          "name": "stdout",
          "text": [
            "dx =  0.5 \n",
            "delX =  50.0 \n",
            "nx =  100 \n",
            "Fr =  0.5 \n",
            "D =  10.0 \n",
            "dt =  0.0125 \n",
            "delT =  5.0 \n",
            "stepsNbr =  400\n"
          ]
        }
      ]
    },
    {
      "cell_type": "code",
      "source": [
        "# initialize and iterate in time\n",
        "initialize()\n",
        "for step in range(stepsNbr):\n",
        "  diffuse1(y, dt)"
      ],
      "metadata": {
        "id": "BH0qpYWNkWwA"
      },
      "execution_count": 9,
      "outputs": []
    },
    {
      "cell_type": "code",
      "execution_count": 10,
      "metadata": {
        "colab": {
          "base_uri": "https://localhost:8080/",
          "height": 430
        },
        "id": "Rzxf8nVmKMg7",
        "outputId": "13d57707-0470-47a8-aa5a-01d2c9c41548"
      },
      "outputs": [
        {
          "output_type": "display_data",
          "data": {
            "text/plain": [
              "<Figure size 480x480 with 1 Axes>"
            ],
            "image/png": "[encoded data removed]"
          },
          "metadata": {}
        }
      ],
      "source": [
        "# Ploting the results\n",
        "viewer = Viewer(vars = (yInit, y),\n",
        "                datamin = min(yInit.min(), y.min())-.1,\n",
        "                datamax = max(yInit.max(), y.max())+.1)\n",
        "viewer.plot()"
      ]
    }
  ]
}