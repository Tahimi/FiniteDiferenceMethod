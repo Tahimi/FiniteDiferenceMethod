{
  "nbformat": 4,
  "nbformat_minor": 0,
  "metadata": {
    "colab": {
      "provenance": [],
      "authorship_tag": "ABX9TyOJBZ4eH2w8hzHCPzYK4ieB",
      "include_colab_link": true
    },
    "kernelspec": {
      "name": "python3",
      "display_name": "Python 3"
    },
    "language_info": {
      "name": "python"
    }
  },
  "cells": [
    {
      "cell_type": "markdown",
      "metadata": {
        "id": "view-in-github",
        "colab_type": "text"
      },
      "source": [
        "<a href=\"https://colab.research.google.com/github/Tahimi/convectionDiffusion/blob/main/advectionDiffusion2D_FipyFiniteVolume.ipynb\" target=\"_parent\"><img src=\"https://colab.research.google.com/assets/colab-badge.svg\" alt=\"Open In Colab\"/></a>"
      ]
    },
    {
      "cell_type": "code",
      "source": [
        "#!pip install fipy\n",
        "# uncomment to install fipy, restart (runtime env.) and execute all"
      ],
      "metadata": {
        "id": "XZhCJdfRdsIU"
      },
      "execution_count": 1,
      "outputs": []
    },
    {
      "cell_type": "code",
      "source": [
        "import numpy as np\n",
        "from fipy import *"
      ],
      "metadata": {
        "id": "wpUEO9CKdzVI"
      },
      "execution_count": 2,
      "outputs": []
    },
    {
      "cell_type": "code",
      "source": [
        "# space discretization\n",
        "w = h = 1000 # m\n",
        "dx = dy = 10 # m\n",
        "nx, ny = int(w/dx), int(h/dy)\n",
        "mesh = Grid2D(nx=nx, dx=dx, ny=ny, dy=dy)\n",
        "print('cellsNbr = ', mesh.globalNumberOfCells)"
      ],
      "metadata": {
        "colab": {
          "base_uri": "https://localhost:8080/"
        },
        "id": "N4JP9oBXd1DU",
        "outputId": "afc7769e-66ae-4132-a509-4f95026675a3"
      },
      "execution_count": 3,
      "outputs": [
        {
          "output_type": "stream",
          "name": "stdout",
          "text": [
            "cellsNbr =  10000\n"
          ]
        }
      ]
    },
    {
      "cell_type": "code",
      "source": [
        "# time discretization\n",
        "# advection\n",
        "vx = vy = 2. # m/s\n",
        "Cr = 0.8 # Courant Number: Cr = u*dt/dx\n",
        "dtAdv = abs(Cr*dx/max(vx,vy))\n",
        "# diffusion\n",
        "Fr = 0.5 # Fourier Number: Fr = D*dt/dx**2\n",
        "D = 20.\n",
        "dtDiff = abs(Fr*dx**2/D)\n",
        "# advectionDiffusion\n",
        "dt = min(dtAdv,dtDiff)\n",
        "delT = 5*60. # sec\n",
        "stepsNbr = int(delT/dt)"
      ],
      "metadata": {
        "id": "ihnvunWVd2kC"
      },
      "execution_count": 4,
      "outputs": []
    },
    {
      "cell_type": "code",
      "source": [
        "# defining the unkown's distribution\n",
        "def distributionIn2D(x, y, zMin, zMax, xc, yc, width, isRectangular = True):\n",
        "  if isRectangular:\n",
        "    # rectangular distribuition\n",
        "    return np.array([zMax if xc-width < xi\n",
        "                     and xi < xc+width\n",
        "                     and yc-width < yi\n",
        "                     and yi < yc+width\n",
        "                     else zMin\n",
        "                     for xi in x\n",
        "                     for yi in y])\n",
        "  else:\n",
        "    # Gaussian distribuition\n",
        "    return zMin + zMax * np.exp(-((x-xc)**2+(y-yc)**2) / (2*width**2))"
      ],
      "metadata": {
        "id": "ZIaLh9dGefAu"
      },
      "execution_count": 5,
      "outputs": []
    },
    {
      "cell_type": "code",
      "source": [
        "# initialization\n",
        "zMin, zMax = 200, 1200\n",
        "xc, yc = 250, 250\n",
        "width = 40\n",
        "\n",
        "def initialize():\n",
        "    # unkown's initialization\n",
        "    global mesh, zMin, zMax, xc, yc, width, zInit, z\n",
        "    zInitValue = distributionIn2D(x=mesh.x,\n",
        "                                  y=mesh.y,\n",
        "                                  zMin=zMin,\n",
        "                                  zMax=zMax,\n",
        "                                  xc=xc,\n",
        "                                  yc=yc,\n",
        "                                  width=width,\n",
        "                                  isRectangular=False)\n",
        "    zInit = CellVariable(mesh=mesh, value=zInitValue)\n",
        "    z = CellVariable(mesh=mesh, value=zInit)\n",
        "\n",
        "    # Applying noFlow BC\n",
        "    z.faceGrad.constrain((0,), where=mesh.exteriorFaces)\n",
        "\n",
        "    # Defining the discritized equation\n",
        "    global D, eq\n",
        "    eq = (TransientTerm(coeff=1.0) + PowerLawConvectionTerm(coeff=(vx,vy))\n",
        "       == DiffusionTerm(coeff=D))"
      ],
      "metadata": {
        "id": "5IOYbzpeej-L"
      },
      "execution_count": 6,
      "outputs": []
    },
    {
      "cell_type": "code",
      "source": [
        "# defining the time-step update function\n",
        "def advectAndDiffuse1(y, dt):\n",
        "    eq.solve(var=y, dt=dt)"
      ],
      "metadata": {
        "id": "PO8qa-CrewtW"
      },
      "execution_count": 7,
      "outputs": []
    },
    {
      "cell_type": "code",
      "source": [
        "# display some parameters\n",
        "print('dx = ', dx, '\\n'\n",
        "      'dy = ', dy, '\\n'\n",
        "      'vx = ', vx, '\\n'\n",
        "      'vy = ', vy, '\\n'\n",
        "      'Cr = ', Cr, '\\n'\n",
        "      'dtAdv = ', dt, '\\n'\n",
        "      'D = ', D, '\\n'\n",
        "      'Fr = ', Fr, '\\n'\n",
        "      'dtDiff = ', dt, '\\n'\n",
        "      'dt = min(dtAdv,dtDiff) = ', dt, '\\n'\n",
        "      'stepsNbr = ', stepsNbr)"
      ],
      "metadata": {
        "colab": {
          "base_uri": "https://localhost:8080/"
        },
        "id": "7GCtsXgBfNRd",
        "outputId": "bfa39482-630a-48e5-93e2-d1dc53bc7a70"
      },
      "execution_count": 8,
      "outputs": [
        {
          "output_type": "stream",
          "name": "stdout",
          "text": [
            "dx =  10 \n",
            "dy =  10 \n",
            "vx =  2.0 \n",
            "vy =  2.0 \n",
            "Cr =  0.8 \n",
            "dtAdv =  2.5 \n",
            "D =  20.0 \n",
            "Fr =  0.5 \n",
            "dtDiff =  2.5 \n",
            "dt = min(dtAdv,dtDiff) =  2.5 \n",
            "stepsNbr =  120\n"
          ]
        }
      ]
    },
    {
      "cell_type": "code",
      "source": [
        "# initialize and iterate in time\n",
        "initialize()\n",
        "for step in range(stepsNbr):\n",
        "    advectAndDiffuse1(z, dt)"
      ],
      "metadata": {
        "id": "8ysJeQf_e5yG"
      },
      "execution_count": 9,
      "outputs": []
    },
    {
      "cell_type": "code",
      "execution_count": 10,
      "metadata": {
        "colab": {
          "base_uri": "https://localhost:8080/",
          "height": 435
        },
        "id": "vZMZ63bI-1fi",
        "outputId": "ae73475f-a1a3-448f-8992-cc1df1d6f6d1"
      },
      "outputs": [
        {
          "output_type": "display_data",
          "data": {
            "text/plain": [
              "<Figure size 600x480 with 2 Axes>"
            ],
            "image/png": "[encoded data removed]"
          },
          "metadata": {}
        }
      ],
      "source": [
        "# ploting the unkown's initial distribution\n",
        "viewer = Viewer(vars = (zInit),\n",
        "                datamin = zInit.min()-.1,\n",
        "                datamax = zInit.max()+.1)\n",
        "viewer.plot()"
      ]
    },
    {
      "cell_type": "code",
      "source": [
        "# ploting the unkown's final distribution\n",
        "print('After', dt*stepsNbr, ' (sec)')\n",
        "viewer = Viewer(vars = (z),\n",
        "                datamin = z.min()-.1,\n",
        "                datamax = z.max()+.1)\n",
        "viewer.plot()"
      ],
      "metadata": {
        "colab": {
          "base_uri": "https://localhost:8080/",
          "height": 452
        },
        "id": "MsuF3cOZfpVK",
        "outputId": "3cef3737-b2d4-44dc-8b1d-7e1a551dd009"
      },
      "execution_count": 11,
      "outputs": [
        {
          "output_type": "stream",
          "name": "stdout",
          "text": [
            "After 300.0  (sec)\n"
          ]
        },
        {
          "output_type": "display_data",
          "data": {
            "text/plain": [
              "<Figure size 600x480 with 2 Axes>"
            ],
            "image/png": "[encoded data removed]"
          },
          "metadata": {}
        }
      ]
    }
  ]
}