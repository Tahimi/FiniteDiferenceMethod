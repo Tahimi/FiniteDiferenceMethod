{
  "nbformat": 4,
  "nbformat_minor": 0,
  "metadata": {
    "colab": {
      "provenance": [],
      "authorship_tag": "ABX9TyOcmiePYo8QgO8LV3tkd9kf",
      "include_colab_link": true
    },
    "kernelspec": {
      "name": "python3",
      "display_name": "Python 3"
    },
    "language_info": {
      "name": "python"
    }
  },
  "cells": [
    {
      "cell_type": "markdown",
      "metadata": {
        "id": "view-in-github",
        "colab_type": "text"
      },
      "source": [
        "<a href=\"https://colab.research.google.com/github/Tahimi/convectionDiffusion/blob/main/advectionDiffusionSource1D_FipyFiniteVolume3.ipynb\" target=\"_parent\"><img src=\"https://colab.research.google.com/assets/colab-badge.svg\" alt=\"Open In Colab\"/></a>"
      ]
    },
    {
      "cell_type": "code",
      "source": [
        "#!pip install fipy\n",
        "# uncomment to install fipy then restart the runtime environment"
      ],
      "metadata": {
        "id": "wUSH7Kvq7IAj"
      },
      "execution_count": 1,
      "outputs": []
    },
    {
      "cell_type": "code",
      "source": [
        "import numpy as np\n",
        "from fipy import *"
      ],
      "metadata": {
        "id": "-2cCA9AX7KVb"
      },
      "execution_count": 2,
      "outputs": []
    },
    {
      "cell_type": "code",
      "source": [
        "# space discretization\n",
        "xL = 0.\n",
        "xR = 0.875 # (km)\n",
        "delX = xR - xL\n",
        "nx = 50\n",
        "dx = delX/nx\n",
        "mesh = Grid1D(nx=nx, dx=dx) + xL\n",
        "print('dx (km) = ', dx, '\\n'\n",
        "      'cellsNbr = ', mesh.globalNumberOfCells)"
      ],
      "metadata": {
        "id": "UF6mG5og7MJc",
        "colab": {
          "base_uri": "https://localhost:8080/"
        },
        "outputId": "4ce3d833-0061-4a8c-ca9c-c16cba2eb3a4"
      },
      "execution_count": 3,
      "outputs": [
        {
          "output_type": "stream",
          "name": "stdout",
          "text": [
            "dx (km) =  0.0175 \n",
            "cellsNbr =  50\n"
          ]
        }
      ]
    },
    {
      "cell_type": "code",
      "source": [
        "# time discretization\n",
        "# simulation time\n",
        "delT = 200. # (h)\n",
        "# advection\n",
        "Cr = 0.2 # Courant Number: Cr = u*dt/dx\n",
        "u = 0.0931 # (km/h)\n",
        "dtAdv = Cr*dx/u\n",
        "# diffusion\n",
        "Fr = 0.4 # Fourier Number: Fr = D*dt/dx**2\n",
        "D = (delX**2)/delT # (km**2/h)\n",
        "dtDiff = Fr*dx**2/D\n",
        "# advectionDiffusion\n",
        "dt = min(dtAdv, dtDiff)"
      ],
      "metadata": {
        "id": "HEhFykAu7RCi"
      },
      "execution_count": 4,
      "outputs": []
    },
    {
      "cell_type": "code",
      "source": [
        "from datetime import timedelta\n",
        "\n",
        "def timeSTR(time):\n",
        "    seconds = int(time*3600)\n",
        "    return str(timedelta(seconds=seconds))\n",
        "\n",
        "print('dtAdv = ', timeSTR(dtAdv), '\\n'\n",
        "      'dtDiff = ', timeSTR(dtDiff), '\\n'\n",
        "      'dt = min(dtAdv, dtDiff) = ', timeSTR(dt), '\\n'\n",
        "      'delT = ', timeSTR(delT))"
      ],
      "metadata": {
        "colab": {
          "base_uri": "https://localhost:8080/"
        },
        "id": "znxKNESmZIGz",
        "outputId": "699d7d1e-e0d9-453d-f6c6-7533e3cda2e0"
      },
      "execution_count": 5,
      "outputs": [
        {
          "output_type": "stream",
          "name": "stdout",
          "text": [
            "dtAdv =  0:02:15 \n",
            "dtDiff =  0:01:55 \n",
            "dt = min(dtAdv, dtDiff) =  0:01:55 \n",
            "delT =  8 days, 8:00:00\n"
          ]
        }
      ]
    },
    {
      "cell_type": "code",
      "source": [
        "# number of time steps\n",
        "stepsNbr = 200 #int(delT/dt)\n",
        "print('stepsNbr = ', stepsNbr)"
      ],
      "metadata": {
        "colab": {
          "base_uri": "https://localhost:8080/"
        },
        "id": "pq8pkFZUgGD4",
        "outputId": "8d9e2aa2-9aa9-4b5d-ad33-6bf338bcffd8"
      },
      "execution_count": 6,
      "outputs": [
        {
          "output_type": "stream",
          "name": "stdout",
          "text": [
            "stepsNbr =  200\n"
          ]
        }
      ]
    },
    {
      "cell_type": "code",
      "source": [
        "# the source center is the center of the grid cell the closest\n",
        "# to the given source position\n",
        "def sourceCenter(sourcePos):\n",
        "    global mesh\n",
        "    x = mesh.x\n",
        "    xs1 = sourcePos\n",
        "    dist2Source = DistanceVariable(mesh=mesh,\n",
        "                                   value=numerix.sqrt((x-xs1)**2))\n",
        "    sourceClosestCellMask = (dist2Source == dist2Source.min())\n",
        "    xcs, *_ = x[sourceClosestCellMask]\n",
        "    return xcs"
      ],
      "metadata": {
        "id": "LupsrEuKE0Ud"
      },
      "execution_count": 7,
      "outputs": []
    },
    {
      "cell_type": "code",
      "source": [
        "# the source mask is the selection of all the grid cells in the vinicity\n",
        "# of the source center, (boolean selection of mesh elements in fipy)\n",
        "def sourceMask(xcs, width=0.):\n",
        "    global mesh\n",
        "    x = mesh.x\n",
        "    ds = DistanceVariable(mesh=mesh,\n",
        "                          value=numerix.sqrt((x-xcs)**2))\n",
        "    return (ds <= width)"
      ],
      "metadata": {
        "id": "J_MqZPb6FJFc"
      },
      "execution_count": 8,
      "outputs": []
    },
    {
      "cell_type": "code",
      "source": [
        "# initialization\n",
        "s1Pos = (delX/4.,) # arbitrary source position\n",
        "s1Width = dx\n",
        "yMin, s1Value = 0., 1.\n",
        "sigmma = 0.25*1e-8 # (1/h)\n",
        "\n",
        "def initialize():\n",
        "    # preparing the SourceTerm\n",
        "    global s1Pos, s1Width, s1Value\n",
        "    xcs1 = sourceCenter(sourcePos=s1Pos)\n",
        "    s1Mask = sourceMask(xcs=xcs1)\n",
        "    #s1Mask = sourceMask(xcs=xcs1, width=s1Width)\n",
        "\n",
        "    # unkown's initialization\n",
        "    global mesh, yMin, yInit, y\n",
        "    yInit = CellVariable(mesh=mesh, value=yMin)\n",
        "    yInit.setValue(s1Value, where=s1Mask)\n",
        "    y = CellVariable(mesh=mesh, value=yInit)\n",
        "\n",
        "    # applying noFlow BC\n",
        "    y.faceGrad.constrain((0,), where=mesh.exteriorFaces)\n",
        "\n",
        "    # defining the discritized equation\n",
        "    global u, D, sigmma, eq\n",
        "    eq = (TransientTerm(coeff=1.0)\n",
        "       + PowerLawConvectionTerm(coeff=(u,))\n",
        "       == DiffusionTerm(coeff=D)\n",
        "       + ImplicitSourceTerm(coeff=-sigmma)\n",
        "       - ImplicitSourceTerm(s1Mask * 1e+10) + s1Mask * 1e+10 * s1Value)\n",
        "\n",
        "# initialize the discritized model\n",
        "initialize()"
      ],
      "metadata": {
        "id": "tMjp7nS87XQP"
      },
      "execution_count": 9,
      "outputs": []
    },
    {
      "cell_type": "code",
      "source": [
        "# ploting the unkown's initial distribution\n",
        "print('Initial distribution')\n",
        "viewer = Viewer(vars = (yInit),\n",
        "                datamin = yInit.min()-.1,\n",
        "                datamax = yInit.max()+.1)\n",
        "viewer.plot()"
      ],
      "metadata": {
        "colab": {
          "base_uri": "https://localhost:8080/",
          "height": 447
        },
        "id": "yJg0gfTCIBhD",
        "outputId": "fbd91848-e302-4661-c611-b96a95a547a6"
      },
      "execution_count": 10,
      "outputs": [
        {
          "output_type": "stream",
          "name": "stdout",
          "text": [
            "Initial distribution\n"
          ]
        },
        {
          "output_type": "display_data",
          "data": {
            "text/plain": [
              "<Figure size 480x480 with 1 Axes>"
            ],
            "image/png": "[encoded data removed]"
          },
          "metadata": {}
        }
      ]
    },
    {
      "cell_type": "code",
      "source": [
        "# defining the time-step update function\n",
        "def advectAndDiffuse1(y, dt):\n",
        "    eq.solve(var=y, dt=dt)"
      ],
      "metadata": {
        "id": "A4My-HhS9aYZ"
      },
      "execution_count": 11,
      "outputs": []
    },
    {
      "cell_type": "code",
      "source": [
        "# displaying some parameters\n",
        "print('delX (km) = ', delX, '\\n'\n",
        "      'nx = ', nx, '\\n'\n",
        "      'dx (km) = ', dx, '\\n'\n",
        "      'cellsNbr = ', mesh.globalNumberOfCells, '\\n'\n",
        "      'Cr (-) = ', Cr, '\\n'\n",
        "      'u (km/h) = ', u, '\\n'\n",
        "      'dtAdv = ', timeSTR(dtAdv), '\\n'\n",
        "      'Fr (-) = ', Fr, '\\n'\n",
        "      'D (km**2/h) = ', D, '\\n'\n",
        "      'dtDiff = ', timeSTR(dtDiff), '\\n'\n",
        "      'dt = min(dtAdv,dtDiff) = ', timeSTR(dt), '\\n'\n",
        "      'delT = ', timeSTR(delT), '\\n'\n",
        "      'stepsNbr = ', stepsNbr)"
      ],
      "metadata": {
        "colab": {
          "base_uri": "https://localhost:8080/"
        },
        "id": "W8-qUj9Y9gE5",
        "outputId": "0f11738b-2829-4b4f-84c2-bcb95e4b3c41"
      },
      "execution_count": 12,
      "outputs": [
        {
          "output_type": "stream",
          "name": "stdout",
          "text": [
            "delX (km) =  0.875 \n",
            "nx =  50 \n",
            "dx (km) =  0.0175 \n",
            "cellsNbr =  50 \n",
            "Cr (-) =  0.2 \n",
            "u (km/h) =  0.0931 \n",
            "dtAdv =  0:02:15 \n",
            "Fr (-) =  0.4 \n",
            "D (km**2/h) =  0.003828125 \n",
            "dtDiff =  0:01:55 \n",
            "dt = min(dtAdv,dtDiff) =  0:01:55 \n",
            "delT =  8 days, 8:00:00 \n",
            "stepsNbr =  200\n"
          ]
        }
      ]
    },
    {
      "cell_type": "code",
      "source": [
        "# iterate in time\n",
        "for step in range(stepsNbr):\n",
        "    eq.solve(var=y, dt=dt)"
      ],
      "metadata": {
        "id": "vRo8QRXZ9j-Z"
      },
      "execution_count": 13,
      "outputs": []
    },
    {
      "cell_type": "code",
      "execution_count": 14,
      "metadata": {
        "id": "vZMZ63bI-1fi",
        "colab": {
          "base_uri": "https://localhost:8080/",
          "height": 447
        },
        "outputId": "76921152-8482-44b7-cad0-a5c7869f326e"
      },
      "outputs": [
        {
          "output_type": "stream",
          "name": "stdout",
          "text": [
            "Distribution after 6:24:00\n"
          ]
        },
        {
          "output_type": "display_data",
          "data": {
            "text/plain": [
              "<Figure size 480x480 with 1 Axes>"
            ],
            "image/png": "[encoded data removed]"
          },
          "metadata": {}
        }
      ],
      "source": [
        "# ploting the unkown's final distribution\n",
        "print('Distribution after', timeSTR(dt*stepsNbr))\n",
        "viewer = Viewer(vars = (y),\n",
        "                datamin = y.min()-.1,\n",
        "                datamax = y.max()+.1)\n",
        "viewer.plot()"
      ]
    }
  ]
}