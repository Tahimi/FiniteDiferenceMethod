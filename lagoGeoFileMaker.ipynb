{
  "nbformat": 4,
  "nbformat_minor": 0,
  "metadata": {
    "colab": {
      "provenance": [],
      "include_colab_link": true
    },
    "kernelspec": {
      "name": "python3",
      "display_name": "Python 3"
    },
    "language_info": {
      "name": "python"
    }
  },
  "cells": [
    {
      "cell_type": "markdown",
      "metadata": {
        "id": "view-in-github",
        "colab_type": "text"
      },
      "source": [
        "<a href=\"https://colab.research.google.com/github/Tahimi/convectionDiffusion/blob/main/lagoGeoFileMaker.ipynb\" target=\"_parent\"><img src=\"https://colab.research.google.com/assets/colab-badge.svg\" alt=\"Open In Colab\"/></a>"
      ]
    },
    {
      "cell_type": "code",
      "source": [
        "from google.colab import drive\n",
        "drive.mount('/content/drive', force_remount=True)"
      ],
      "metadata": {
        "colab": {
          "base_uri": "https://localhost:8080/"
        },
        "id": "Zy5aBJmcoxJ9",
        "outputId": "be1dc329-2778-4ca4-8aa0-d8c1db6e27c9"
      },
      "execution_count": 1,
      "outputs": [
        {
          "output_type": "stream",
          "name": "stdout",
          "text": [
            "Mounted at /content/drive\n"
          ]
        }
      ]
    },
    {
      "cell_type": "code",
      "source": [
        "meshInputFileName = '/content/drive/MyDrive/UFAL/advection_diffusion/FiniteDiference_FipyFiniteVolume/lagoBoundaryVerticesSIRGAS2000UTMzone24S.csv'\n",
        "\n",
        "import pandas as pd\n",
        "\n",
        "df = pd.read_csv(meshInputFileName, usecols = ['x', 'y'])\n",
        "\n",
        "xmin, ymin = min(df['x']), min(df['y'])\n",
        "df['x'], df['y'] = df['x']-xmin, df['y']-ymin\n",
        "x, y = df['x'], df['y']\n",
        "print('xmin = ', xmin, ', ymin = ', ymin, ', len(x) = len(y) = ', len(x))\n",
        "df.head(10)"
      ],
      "metadata": {
        "colab": {
          "base_uri": "https://localhost:8080/",
          "height": 380
        },
        "id": "C5lEdpdD4aKA",
        "outputId": "4ab8effc-b7dc-4e96-98fc-258d592d5589"
      },
      "execution_count": 2,
      "outputs": [
        {
          "output_type": "stream",
          "name": "stdout",
          "text": [
            "xmin =  753160 , ymin =  8920062 , len(x) = len(y) =  285\n"
          ]
        },
        {
          "output_type": "execute_result",
          "data": {
            "text/plain": [
              "      x   y\n",
              "0   893   0\n",
              "1   898   5\n",
              "2   924  32\n",
              "3   928  36\n",
              "4   955  63\n",
              "5   959  66\n",
              "6   985  93\n",
              "7  1016  92\n",
              "8  1046  93\n",
              "9  1077  93"
            ],
            "text/html": [
              "\n",
              "  <div id=\"df-e97fd2d6-828c-4093-8d09-3532ebfab5db\">\n",
              "    <div class=\"colab-df-container\">\n",
              "      <div>\n",
              "<style scoped>\n",
              "    .dataframe tbody tr th:only-of-type {\n",
              "        vertical-align: middle;\n",
              "    }\n",
              "\n",
              "    .dataframe tbody tr th {\n",
              "        vertical-align: top;\n",
              "    }\n",
              "\n",
              "    .dataframe thead th {\n",
              "        text-align: right;\n",
              "    }\n",
              "</style>\n",
              "<table border=\"1\" class=\"dataframe\">\n",
              "  <thead>\n",
              "    <tr style=\"text-align: right;\">\n",
              "      <th></th>\n",
              "      <th>x</th>\n",
              "      <th>y</th>\n",
              "    </tr>\n",
              "  </thead>\n",
              "  <tbody>\n",
              "    <tr>\n",
              "      <th>0</th>\n",
              "      <td>893</td>\n",
              "      <td>0</td>\n",
              "    </tr>\n",
              "    <tr>\n",
              "      <th>1</th>\n",
              "      <td>898</td>\n",
              "      <td>5</td>\n",
              "    </tr>\n",
              "    <tr>\n",
              "      <th>2</th>\n",
              "      <td>924</td>\n",
              "      <td>32</td>\n",
              "    </tr>\n",
              "    <tr>\n",
              "      <th>3</th>\n",
              "      <td>928</td>\n",
              "      <td>36</td>\n",
              "    </tr>\n",
              "    <tr>\n",
              "      <th>4</th>\n",
              "      <td>955</td>\n",
              "      <td>63</td>\n",
              "    </tr>\n",
              "    <tr>\n",
              "      <th>5</th>\n",
              "      <td>959</td>\n",
              "      <td>66</td>\n",
              "    </tr>\n",
              "    <tr>\n",
              "      <th>6</th>\n",
              "      <td>985</td>\n",
              "      <td>93</td>\n",
              "    </tr>\n",
              "    <tr>\n",
              "      <th>7</th>\n",
              "      <td>1016</td>\n",
              "      <td>92</td>\n",
              "    </tr>\n",
              "    <tr>\n",
              "      <th>8</th>\n",
              "      <td>1046</td>\n",
              "      <td>93</td>\n",
              "    </tr>\n",
              "    <tr>\n",
              "      <th>9</th>\n",
              "      <td>1077</td>\n",
              "      <td>93</td>\n",
              "    </tr>\n",
              "  </tbody>\n",
              "</table>\n",
              "</div>\n",
              "      <button class=\"colab-df-convert\" onclick=\"convertToInteractive('df-e97fd2d6-828c-4093-8d09-3532ebfab5db')\"\n",
              "              title=\"Convert this dataframe to an interactive table.\"\n",
              "              style=\"display:none;\">\n",
              "        \n",
              "  <svg xmlns=\"http://www.w3.org/2000/svg\" height=\"24px\"viewBox=\"0 0 24 24\"\n",
              "       width=\"24px\">\n",
              "    <path d=\"M0 0h24v24H0V0z\" fill=\"none\"/>\n",
              "    <path d=\"M18.56 5.44l.94 2.06.94-2.06 2.06-.94-2.06-.94-.94-2.06-.94 2.06-2.06.94zm-11 1L8.5 8.5l.94-2.06 2.06-.94-2.06-.94L8.5 2.5l-.94 2.06-2.06.94zm10 10l.94 2.06.94-2.06 2.06-.94-2.06-.94-.94-2.06-.94 2.06-2.06.94z\"/><path d=\"M17.41 7.96l-1.37-1.37c-.4-.4-.92-.59-1.43-.59-.52 0-1.04.2-1.43.59L10.3 9.45l-7.72 7.72c-.78.78-.78 2.05 0 2.83L4 21.41c.39.39.9.59 1.41.59.51 0 1.02-.2 1.41-.59l7.78-7.78 2.81-2.81c.8-.78.8-2.07 0-2.86zM5.41 20L4 18.59l7.72-7.72 1.47 1.35L5.41 20z\"/>\n",
              "  </svg>\n",
              "      </button>\n",
              "      \n",
              "  <style>\n",
              "    .colab-df-container {\n",
              "      display:flex;\n",
              "      flex-wrap:wrap;\n",
              "      gap: 12px;\n",
              "    }\n",
              "\n",
              "    .colab-df-convert {\n",
              "      background-color: #E8F0FE;\n",
              "      border: none;\n",
              "      border-radius: 50%;\n",
              "      cursor: pointer;\n",
              "      display: none;\n",
              "      fill: #1967D2;\n",
              "      height: 32px;\n",
              "      padding: 0 0 0 0;\n",
              "      width: 32px;\n",
              "    }\n",
              "\n",
              "    .colab-df-convert:hover {\n",
              "      background-color: #E2EBFA;\n",
              "      box-shadow: 0px 1px 2px rgba(60, 64, 67, 0.3), 0px 1px 3px 1px rgba(60, 64, 67, 0.15);\n",
              "      fill: #174EA6;\n",
              "    }\n",
              "\n",
              "    [theme=dark] .colab-df-convert {\n",
              "      background-color: #3B4455;\n",
              "      fill: #D2E3FC;\n",
              "    }\n",
              "\n",
              "    [theme=dark] .colab-df-convert:hover {\n",
              "      background-color: #434B5C;\n",
              "      box-shadow: 0px 1px 3px 1px rgba(0, 0, 0, 0.15);\n",
              "      filter: drop-shadow(0px 1px 2px rgba(0, 0, 0, 0.3));\n",
              "      fill: #FFFFFF;\n",
              "    }\n",
              "  </style>\n",
              "\n",
              "      <script>\n",
              "        const buttonEl =\n",
              "          document.querySelector('#df-e97fd2d6-828c-4093-8d09-3532ebfab5db button.colab-df-convert');\n",
              "        buttonEl.style.display =\n",
              "          google.colab.kernel.accessAllowed ? 'block' : 'none';\n",
              "\n",
              "        async function convertToInteractive(key) {\n",
              "          const element = document.querySelector('#df-e97fd2d6-828c-4093-8d09-3532ebfab5db');\n",
              "          const dataTable =\n",
              "            await google.colab.kernel.invokeFunction('convertToInteractive',\n",
              "                                                     [key], {});\n",
              "          if (!dataTable) return;\n",
              "\n",
              "          const docLinkHtml = 'Like what you see? Visit the ' +\n",
              "            '<a target=\"_blank\" href=https://colab.research.google.com/notebooks/data_table.ipynb>data table notebook</a>'\n",
              "            + ' to learn more about interactive tables.';\n",
              "          element.innerHTML = '';\n",
              "          dataTable['output_type'] = 'display_data';\n",
              "          await google.colab.output.renderOutput(dataTable, element);\n",
              "          const docLink = document.createElement('div');\n",
              "          docLink.innerHTML = docLinkHtml;\n",
              "          element.appendChild(docLink);\n",
              "        }\n",
              "      </script>\n",
              "    </div>\n",
              "  </div>\n",
              "  "
            ]
          },
          "metadata": {},
          "execution_count": 2
        }
      ]
    },
    {
      "cell_type": "code",
      "source": [
        "import numpy as np\n",
        "\n",
        "def getSelectedVerticesIdxs(dist_min):\n",
        "    global x, y\n",
        "    l = []\n",
        "    i = 0\n",
        "    i_max = len(x)\n",
        "    # select the first vertice\n",
        "    l.append(i)\n",
        "    while i < i_max:\n",
        "        a = np.array([x[i], y[i]])\n",
        "        j = 1\n",
        "        # advance the increment j untill enconter the next distante enough vertice\n",
        "        while i+j < len(x) and np.linalg.norm(a - np.array([x[i+j], y[i+j]])) <= dist_min:\n",
        "            j += 1\n",
        "        if i+j >= i_max:\n",
        "            break\n",
        "        # the encountred vertice has index = i + the increment j\n",
        "        i += j\n",
        "        # adding this vertice to the selection\n",
        "        l.append(i)\n",
        "    # check the distant between the last and first vertices\n",
        "    if np.linalg.norm(a - np.array([x[0], y[0]])) <= dist_min: l.pop(-1)\n",
        "    return l\n",
        "\n",
        "dist_min = 30.\n",
        "selectedVerticesIdxs = getSelectedVerticesIdxs(dist_min)\n",
        "print('len(selectedVerticesIdxs) = ', len(selectedVerticesIdxs))"
      ],
      "metadata": {
        "colab": {
          "base_uri": "https://localhost:8080/"
        },
        "id": "PJ50UJaR6WYc",
        "outputId": "f659cbea-e79d-4615-c186-8029137939c1"
      },
      "execution_count": 3,
      "outputs": [
        {
          "output_type": "stream",
          "name": "stdout",
          "text": [
            "len(selectedVerticesIdxs) =  183\n"
          ]
        }
      ]
    },
    {
      "cell_type": "code",
      "source": [
        "geoFileName = '/content/drive/MyDrive/UFAL/advection_diffusion/FiniteDiference_FipyFiniteVolume/lagoGeoFileForGmsh.geo.txt'\n",
        "\n",
        "def writeGeoFile(fileName = geoFileName):\n",
        "    global selectedVerticesIdxs, x, y\n",
        "    with open(fileName, 'w') as geoFile:\n",
        "        geoFile.write('lc = '+str(dist_min)+'; // characteristic length of mesh elements\\n')\n",
        "        geoFile.write('\\n// defining the points\\n')\n",
        "        pointIdx = 0\n",
        "        for i in selectedVerticesIdxs:\n",
        "            pointIdx += 1\n",
        "            txtLine = 'Point('+str(pointIdx)+') = {'+str(x[i])+','+str(y[i])+','+str(0.)+',lc};\\n'\n",
        "            geoFile.write(txtLine)\n",
        "            pointsNbr = pointIdx\n",
        "\n",
        "        geoFile.write('\\n// defining the lines\\n')\n",
        "        linesNbr = pointsNbr\n",
        "        for lineIdx in range(1, linesNbr+1):\n",
        "            pL = lineIdx; pR = lineIdx+1\n",
        "            if lineIdx == linesNbr: pR = 1\n",
        "            txtLine = 'Line('+str(lineIdx)+') = {'+str(pL)+','+str(pR)+'};\\n'\n",
        "            geoFile.write(txtLine)\n",
        "\n",
        "        geoFile.write('\\n// defining the line loop and the plane surface\\n')\n",
        "        geoFile.write('Line Loop(1) = {')\n",
        "        [geoFile.write(str(i)+',') for i in range(1,linesNbr)]\n",
        "        geoFile.write(str(linesNbr)+'};\\n')\n",
        "        geoFile.write('Plane Surface(1) = {1};\\n')\n",
        "\n",
        "        geoFileFinalParte='''\n",
        "// Define the meshing algorithm for the surface\n",
        "Mesh.Algorithm = 8; // Frontal-Delaunay for quads\n",
        "\n",
        "// Define the number of cells for the mesh\n",
        "Mesh.RecombinationAlgorithm = 2; // full-quad recombination algorithm\n",
        "Mesh.RecombineAll = 1;\n",
        "Mesh.Smoothing = 10;\n",
        "Color Grey50{ Surface{ 1 }; }\n",
        "\n",
        "// Define the physical groups\n",
        "Physical Surface(\"Lagoa\") = {1};'''\n",
        "        geoFile.write(geoFileFinalParte)\n",
        "        print('successfully generated file:', geoFileName)\n",
        "\n",
        "writeGeoFile()"
      ],
      "metadata": {
        "colab": {
          "base_uri": "https://localhost:8080/"
        },
        "id": "5qfHVeLc6pVx",
        "outputId": "c8a3c370-fbcb-47e4-e06d-9bf7a9ebd16f"
      },
      "execution_count": 4,
      "outputs": [
        {
          "output_type": "stream",
          "name": "stdout",
          "text": [
            "successfully generated file: /content/drive/MyDrive/UFAL/advection_diffusion/FiniteDiference_FipyFiniteVolume/lagoGeoFileForGmsh.geo.txt\n"
          ]
        }
      ]
    }
  ]
}