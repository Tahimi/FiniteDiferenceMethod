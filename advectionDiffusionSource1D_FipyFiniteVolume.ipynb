{
  "nbformat": 4,
  "nbformat_minor": 0,
  "metadata": {
    "colab": {
      "provenance": [],
      "authorship_tag": "ABX9TyMckmf2QLJJlZVzTMHZDAP/",
      "include_colab_link": true
    },
    "kernelspec": {
      "name": "python3",
      "display_name": "Python 3"
    },
    "language_info": {
      "name": "python"
    }
  },
  "cells": [
    {
      "cell_type": "markdown",
      "metadata": {
        "id": "view-in-github",
        "colab_type": "text"
      },
      "source": [
        "<a href=\"https://colab.research.google.com/github/Tahimi/convectionDiffusion/blob/main/advectionDiffusionSource1D_FipyFiniteVolume.ipynb\" target=\"_parent\"><img src=\"https://colab.research.google.com/assets/colab-badge.svg\" alt=\"Open In Colab\"/></a>"
      ]
    },
    {
      "cell_type": "code",
      "source": [
        "#!pip install fipy\n",
        "# uncomment to install fipy then restart the runtime environment"
      ],
      "metadata": {
        "id": "wUSH7Kvq7IAj"
      },
      "execution_count": 1,
      "outputs": []
    },
    {
      "cell_type": "code",
      "source": [
        "import numpy as np\n",
        "from fipy import *"
      ],
      "metadata": {
        "id": "-2cCA9AX7KVb"
      },
      "execution_count": 2,
      "outputs": []
    },
    {
      "cell_type": "code",
      "source": [
        "# space discretization\n",
        "xL = 0.\n",
        "xR = 10.\n",
        "dx = 0.1\n",
        "delX = xR - xL\n",
        "nx = int(delX/dx)\n",
        "mesh = Grid1D(nx=nx, dx=dx) + xL"
      ],
      "metadata": {
        "id": "UF6mG5og7MJc"
      },
      "execution_count": 3,
      "outputs": []
    },
    {
      "cell_type": "code",
      "source": [
        "# time discretization\n",
        "# advection\n",
        "Cr = 0.2 # Courant Number: Cr = u*dt/dx\n",
        "u = 20.\n",
        "dtAdv = Cr*dx/u\n",
        "# diffusion\n",
        "Fr = 0.4 # Fourier Number: Fr = D*dt/dx**2\n",
        "D = 4.\n",
        "dtDiff = Fr*dx**2/D\n",
        "# advectionDiffusion\n",
        "dt = min(dtAdv, dtDiff)\n",
        "print('dtAdv = ', dtAdv, '\\n'\n",
        "      'dtDiff = ', dtDiff, '\\n'\n",
        "      'dt = min(dtAdv, dtDiff) = ', dt)\n",
        "# simulation time\n",
        "delT = 0.3\n",
        "stepsNbr = int(delT/dt)"
      ],
      "metadata": {
        "colab": {
          "base_uri": "https://localhost:8080/"
        },
        "id": "HEhFykAu7RCi",
        "outputId": "cd52f56f-9acf-42a8-bb96-21945e8fe1bc"
      },
      "execution_count": 4,
      "outputs": [
        {
          "output_type": "stream",
          "name": "stdout",
          "text": [
            "dtAdv =  0.0010000000000000002 \n",
            "dtDiff =  0.0010000000000000002 \n",
            "dt = min(dtAdv, dtDiff) =  0.0010000000000000002\n"
          ]
        }
      ]
    },
    {
      "cell_type": "code",
      "source": [
        "# initialization\n",
        "yMin = 0.\n",
        "yMax = 1.\n",
        "xs1 = 2.21 # source coordinate\n",
        "\n",
        "def initialize():\n",
        "    # unkown's initialization\n",
        "    global mesh, yMin, yInit, y\n",
        "    yInit = CellVariable(mesh=mesh, value=yMin)\n",
        "    y = CellVariable(mesh=mesh, value=yInit)\n",
        "\n",
        "    # preparing the SourceTerm\n",
        "    # obs. at the closest grid cell to point of coordinate xs1\n",
        "    global xs1, yMax\n",
        "    ds1 = DistanceVariable(mesh = mesh,\n",
        "                           value = numerix.sqrt((mesh.x-xs1)**2))\n",
        "    s1Mask = (ds1 == ds1.min())\n",
        "    s1Value = yMax\n",
        "    largeValue = 1e+10\n",
        "    SourceTerm1 = - ImplicitSourceTerm(s1Mask * largeValue) \\\n",
        "                + s1Mask * largeValue * s1Value\n",
        "\n",
        "    # Applying noFlow BC\n",
        "    y.faceGrad.constrain((0,), where=mesh.exteriorFaces)\n",
        "\n",
        "    # Defining the discritized equation\n",
        "    global u, D, eq\n",
        "    eq = (TransientTerm(coeff=1.0)\n",
        "       + PowerLawConvectionTerm(coeff=(u,))\n",
        "       == DiffusionTerm(coeff=D) + SourceTerm1)"
      ],
      "metadata": {
        "id": "tMjp7nS87XQP"
      },
      "execution_count": 5,
      "outputs": []
    },
    {
      "cell_type": "code",
      "source": [
        "# defining the time-step update function\n",
        "def advectAndDiffuse1(y, dt):\n",
        "    eq.solve(var=y, dt=dt)"
      ],
      "metadata": {
        "id": "A4My-HhS9aYZ"
      },
      "execution_count": 6,
      "outputs": []
    },
    {
      "cell_type": "code",
      "source": [
        "# displaying some parameters\n",
        "print('dx = ', \"{:.2e}\".format(dx), '\\n'\n",
        "      'delX = ', delX, '\\n'\n",
        "      'nx = ', nx, '\\n'\n",
        "      'Cr = ', Cr, '\\n'\n",
        "      'u = ', u, '\\n'\n",
        "      'dtAdv = ', \"{:.2e}\".format(dtAdv), '\\n'\n",
        "      'Fr = ', Fr, '\\n'\n",
        "      'D = ', D, '\\n'\n",
        "      'dtDiff = ', \"{:.2e}\".format(dtDiff), '\\n'\n",
        "      'dt = min(dtAdv,dtDiff) = ', \"{:.2e}\".format(dt), '\\n'\n",
        "      'delT = ', delT, '\\n'\n",
        "      'stepsNbr = ', stepsNbr)"
      ],
      "metadata": {
        "colab": {
          "base_uri": "https://localhost:8080/"
        },
        "id": "W8-qUj9Y9gE5",
        "outputId": "e153d5c8-18b1-4ca0-8783-4c90423ac4bf"
      },
      "execution_count": 7,
      "outputs": [
        {
          "output_type": "stream",
          "name": "stdout",
          "text": [
            "dx =  1.00e-01 \n",
            "delX =  10.0 \n",
            "nx =  100 \n",
            "Cr =  0.2 \n",
            "u =  20.0 \n",
            "dtAdv =  1.00e-03 \n",
            "Fr =  0.4 \n",
            "D =  4.0 \n",
            "dtDiff =  1.00e-03 \n",
            "dt = min(dtAdv,dtDiff) =  1.00e-03 \n",
            "delT =  0.3 \n",
            "stepsNbr =  299\n"
          ]
        }
      ]
    },
    {
      "cell_type": "code",
      "source": [
        "# initialize and iterate in time\n",
        "initialize()\n",
        "for step in range(stepsNbr):\n",
        "    eq.solve(var=y, dt=dt)"
      ],
      "metadata": {
        "id": "vRo8QRXZ9j-Z"
      },
      "execution_count": 8,
      "outputs": []
    },
    {
      "cell_type": "code",
      "execution_count": 9,
      "metadata": {
        "id": "vZMZ63bI-1fi",
        "colab": {
          "base_uri": "https://localhost:8080/",
          "height": 430
        },
        "outputId": "f1a71316-2686-4c2f-ed3c-d4fe5b0a2d3e"
      },
      "outputs": [
        {
          "output_type": "display_data",
          "data": {
            "text/plain": [
              "<Figure size 480x480 with 1 Axes>"
            ],
            "image/png": "[encoded data removed]"
          },
          "metadata": {}
        }
      ],
      "source": [
        "# ploting the simulation results\n",
        "viewer = Viewer(vars = (yInit, y),\n",
        "                datamin = min(yInit.min(), y.min())-.1,\n",
        "                datamax = max(yInit.max(), y.max())+.1)\n",
        "viewer.plot()"
      ]
    }
  ]
}