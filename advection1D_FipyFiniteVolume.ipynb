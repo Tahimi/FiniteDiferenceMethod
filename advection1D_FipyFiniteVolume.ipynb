{
  "nbformat": 4,
  "nbformat_minor": 0,
  "metadata": {
    "colab": {
      "provenance": [],
      "authorship_tag": "ABX9TyNRVEuJVQvcDYdgoDTeZUEL",
      "include_colab_link": true
    },
    "kernelspec": {
      "name": "python3",
      "display_name": "Python 3"
    },
    "language_info": {
      "name": "python"
    }
  },
  "cells": [
    {
      "cell_type": "markdown",
      "metadata": {
        "id": "view-in-github",
        "colab_type": "text"
      },
      "source": [
        "<a href=\"https://colab.research.google.com/github/Tahimi/convectionDiffusion/blob/main/advection1D_FipyFiniteVolume.ipynb\" target=\"_parent\"><img src=\"https://colab.research.google.com/assets/colab-badge.svg\" alt=\"Open In Colab\"/></a>"
      ]
    },
    {
      "cell_type": "code",
      "source": [
        "#!pip install fipy\n",
        "# uncomment to install fipy then restart the runtime environment"
      ],
      "metadata": {
        "id": "3A3HH9Ptsukn"
      },
      "execution_count": 1,
      "outputs": []
    },
    {
      "cell_type": "code",
      "source": [
        "import numpy as np\n",
        "from fipy import *"
      ],
      "metadata": {
        "id": "vreaztJ2tG16"
      },
      "execution_count": 2,
      "outputs": []
    },
    {
      "cell_type": "code",
      "source": [
        "# space discretization\n",
        "xL = 0.\n",
        "xR = 1.\n",
        "dx = 0.01\n",
        "delX = xR - xL\n",
        "nx = int(delX/dx)\n",
        "mesh = Grid1D(nx=nx, dx=dx) + xL"
      ],
      "metadata": {
        "id": "D3X6lUX3tIR8"
      },
      "execution_count": 3,
      "outputs": []
    },
    {
      "cell_type": "code",
      "source": [
        "# time discretization\n",
        "Cr = 0.5 # Courant Number: Cr = u*dt/dx\n",
        "u = 1.\n",
        "dt = Cr*dx/u\n",
        "delT = 0.7\n",
        "stepsNbr = int(delT/dt)"
      ],
      "metadata": {
        "id": "SsaqqphatJzD"
      },
      "execution_count": 4,
      "outputs": []
    },
    {
      "cell_type": "code",
      "source": [
        "# defining the unkown's distribution\n",
        "def distributionIn1D(x, yMin, yMax, xc, width, isRectangular = True):\n",
        "  if isRectangular:\n",
        "    # rectangular distribuition\n",
        "    return np.array([yMax if xc-width < xi and xi < xc+width else yMin for xi in x])\n",
        "  else:\n",
        "    # Gaussian distribuition\n",
        "    return yMin + yMax * np.exp(-(x - xc) ** 2 / (2 * width ** 2))"
      ],
      "metadata": {
        "id": "08u5IwHetNpl"
      },
      "execution_count": 5,
      "outputs": []
    },
    {
      "cell_type": "code",
      "source": [
        "# initialization\n",
        "yMin = 0.\n",
        "yMax = 1.\n",
        "xc = 0.25\n",
        "width = 0.05\n",
        "\n",
        "def initialize():\n",
        "    # unkown's initialization\n",
        "    global mesh, yMin, yMax, xc, width, yInit, y\n",
        "    yInitValue = distributionIn1D(x=mesh.x,\n",
        "                                  yMin=yMin,\n",
        "                                  yMax=yMax,\n",
        "                                  xc=xc,\n",
        "                                  width=width,\n",
        "                                  isRectangular=False)\n",
        "    yInit = CellVariable(mesh=mesh, value=yInitValue)\n",
        "    y = CellVariable(mesh=mesh, value=yInit)\n",
        "\n",
        "    # defining the BCs and the discritized eq.\n",
        "    # 1. Dirichlet BC upstream, \n",
        "    # obs. for comparaison with FD, we are limited here for, u > 0, hence\n",
        "    # upstream boundary corresponds to facesLeft, (not right)\n",
        "    y.faceValue.constrain(yMin, where=mesh.facesLeft)\n",
        "    # 2. Absorbing BC downstream\n",
        "    # obs. this is already implemented in the equation as fixed flux BC\n",
        "\n",
        "    # Defining the discritized equation\n",
        "    global u, eq\n",
        "    convCoeff = (u,)\n",
        "    eq = TransientTerm(coeff=1.0, var=y) \\\n",
        "       + VanLeerConvectionTerm(coeff=convCoeff, var=y) \\\n",
        "       == -((convCoeff * y.faceValue) * mesh.facesRight).divergence\n",
        "    # obs. check also, VanLeerConvectionTerm()"
      ],
      "metadata": {
        "id": "6CmtFAvktVe6"
      },
      "execution_count": 6,
      "outputs": []
    },
    {
      "cell_type": "code",
      "source": [
        "# defining the time-step update function for the\n",
        "def advect1(y, dt):\n",
        "    eq.solve(var=y, dt=dt)"
      ],
      "metadata": {
        "id": "XbNrX703ujY8"
      },
      "execution_count": 7,
      "outputs": []
    },
    {
      "cell_type": "code",
      "source": [
        "# displaying some parameters\n",
        "print('Cr = ', Cr, '\\n'\n",
        "      'dx = ', dx, '\\n'\n",
        "      'u = ', u, '\\n'\n",
        "      'dt = ', dt, '\\n'\n",
        "      'delT = ', delT, '\\n'\n",
        "      'stepsNbr = ', stepsNbr)"
      ],
      "metadata": {
        "colab": {
          "base_uri": "https://localhost:8080/"
        },
        "id": "9OpUjF6yuW2H",
        "outputId": "74148825-0173-4727-8854-31802efd1d7e"
      },
      "execution_count": 8,
      "outputs": [
        {
          "output_type": "stream",
          "name": "stdout",
          "text": [
            "Cr =  0.5 \n",
            "dx =  0.01 \n",
            "u =  1.0 \n",
            "dt =  0.005 \n",
            "delT =  0.7 \n",
            "stepsNbr =  140\n"
          ]
        }
      ]
    },
    {
      "cell_type": "code",
      "source": [
        "# initialize and iterate in time\n",
        "initialize()\n",
        "for step in range(stepsNbr):\n",
        "  advect1(y, dt)"
      ],
      "metadata": {
        "id": "NykjDd-1uZzM"
      },
      "execution_count": 9,
      "outputs": []
    },
    {
      "cell_type": "code",
      "execution_count": 10,
      "metadata": {
        "colab": {
          "base_uri": "https://localhost:8080/",
          "height": 430
        },
        "id": "s2j2wRHuYpmH",
        "outputId": "cf9c74cd-d1f0-4126-cb9c-ea45e997326a"
      },
      "outputs": [
        {
          "output_type": "display_data",
          "data": {
            "text/plain": [
              "<Figure size 480x480 with 1 Axes>"
            ],
            "image/png": "[encoded data removed]"
          },
          "metadata": {}
        }
      ],
      "source": [
        "# Ploting the results\n",
        "yImag = CellVariable(mesh=mesh,\n",
        "                     value=distributionIn1D(x=mesh.x,\n",
        "                                            yMin=yMin,\n",
        "                                            yMax=yMax,\n",
        "                                            xc=xc+u*stepsNbr*dt,\n",
        "                                            width=width,\n",
        "                                            isRectangular = False))\n",
        "viewer = Viewer(vars = (yInit, yImag, y),\n",
        "                datamin = min(yInit.min(), y.min())-.1,\n",
        "                datamax = max(yInit.max(), y.max())+.1)\n",
        "viewer.plot()"
      ]
    }
  ]
}