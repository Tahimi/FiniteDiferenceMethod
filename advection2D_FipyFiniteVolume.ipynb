{
  "nbformat": 4,
  "nbformat_minor": 0,
  "metadata": {
    "colab": {
      "provenance": [],
      "authorship_tag": "ABX9TyNMb4L/KbLWxxhlRkYueW8Z",
      "include_colab_link": true
    },
    "kernelspec": {
      "name": "python3",
      "display_name": "Python 3"
    },
    "language_info": {
      "name": "python"
    }
  },
  "cells": [
    {
      "cell_type": "markdown",
      "metadata": {
        "id": "view-in-github",
        "colab_type": "text"
      },
      "source": [
        "<a href=\"https://colab.research.google.com/github/Tahimi/convectionDiffusion/blob/main/advection2D_FipyFiniteVolume.ipynb\" target=\"_parent\"><img src=\"https://colab.research.google.com/assets/colab-badge.svg\" alt=\"Open In Colab\"/></a>"
      ]
    },
    {
      "cell_type": "code",
      "source": [
        "#!pip install fipy\n",
        "# uncomment to install fipy, restart (runtime env.) and execute all"
      ],
      "metadata": {
        "id": "2ObblgDIaFvM"
      },
      "execution_count": 1,
      "outputs": []
    },
    {
      "cell_type": "code",
      "source": [
        "import numpy as np\n",
        "from fipy import *"
      ],
      "metadata": {
        "id": "V7KGfzWFaIav"
      },
      "execution_count": 2,
      "outputs": []
    },
    {
      "cell_type": "code",
      "source": [
        "# space discretization\n",
        "w = h = 1000 # m\n",
        "dx = dy = 10 # m\n",
        "nx, ny = int(w/dx), int(h/dy)\n",
        "mesh = Grid2D(nx=nx, dx=dx, ny=ny, dy=dy)\n",
        "print('cellsNbr = ', mesh.globalNumberOfCells)"
      ],
      "metadata": {
        "colab": {
          "base_uri": "https://localhost:8080/"
        },
        "id": "ImYUTEq8aK-c",
        "outputId": "5ecc5688-baa7-49f8-cdd9-53d9cac7384e"
      },
      "execution_count": 3,
      "outputs": [
        {
          "output_type": "stream",
          "name": "stdout",
          "text": [
            "cellsNbr =  10000\n"
          ]
        }
      ]
    },
    {
      "cell_type": "code",
      "source": [
        "# time discretization\n",
        "# Advection\n",
        "vx = vy = 2. # m/s\n",
        "Cr = 0.8 # Courant Number: Cr = u*dt/dx\n",
        "dtAdv = abs(Cr*dx/max(vx,vy))\n",
        "dt = dtAdv\n",
        "delT = 5*60. # sec\n",
        "stepsNbr = int(delT/dt)"
      ],
      "metadata": {
        "id": "D6JlhJnPaNif"
      },
      "execution_count": 4,
      "outputs": []
    },
    {
      "cell_type": "code",
      "source": [
        "# defining the unkown's distribution\n",
        "def distributionIn2D(x, y, zMin, zMax, xc, yc, width, isRectangular = True):\n",
        "  if isRectangular:\n",
        "    # rectangular distribuition\n",
        "    return np.array([zMax if xc-width < xi\n",
        "                     and xi < xc+width\n",
        "                     and yc-width < yi\n",
        "                     and yi < yc+width\n",
        "                     else zMin\n",
        "                     for xi in x\n",
        "                     for yi in y])\n",
        "  else:\n",
        "    # Gaussian distribuition\n",
        "    return zMin + zMax * np.exp(-((x-xc)**2+(y-yc)**2) / (2*width**2))"
      ],
      "metadata": {
        "id": "o4Euqc4-algU"
      },
      "execution_count": 5,
      "outputs": []
    },
    {
      "cell_type": "code",
      "source": [
        "# initialization\n",
        "zMin, zMax = 200, 1200\n",
        "xc, yc = 250, 250\n",
        "width = 40\n",
        "\n",
        "def initialize():\n",
        "    # unkown's initialization\n",
        "    global mesh, zMin, zMax, xc, yc, width, zInit, z\n",
        "    zInitValue = distributionIn2D(x=mesh.x,\n",
        "                                  y=mesh.y,\n",
        "                                  zMin=zMin,\n",
        "                                  zMax=zMax,\n",
        "                                  xc=xc,\n",
        "                                  yc=yc,\n",
        "                                  width=width,\n",
        "                                  isRectangular=False)\n",
        "    zInit = CellVariable(mesh=mesh, value=zInitValue)\n",
        "    z = CellVariable(mesh=mesh, value=zInit)\n",
        "\n",
        "    # Applying noFlow BC\n",
        "    z.faceGrad.constrain((0,), where=mesh.exteriorFaces)\n",
        "\n",
        "    # Defining the discritized equation\n",
        "    global vx, vy, eq\n",
        "    eq = (TransientTerm(coeff=1.0) + PowerLawConvectionTerm(coeff=(vx,vy))\n",
        "       == 0)"
      ],
      "metadata": {
        "id": "j2leXwrtaqeD"
      },
      "execution_count": 6,
      "outputs": []
    },
    {
      "cell_type": "code",
      "source": [
        "# defining the time-step update function\n",
        "def advect1(y, dt):\n",
        "    eq.solve(var=y, dt=dt)"
      ],
      "metadata": {
        "id": "dV1OjxWEavbn"
      },
      "execution_count": 7,
      "outputs": []
    },
    {
      "cell_type": "code",
      "source": [
        "# initialize and iterate in time\n",
        "initialize()\n",
        "for step in range(stepsNbr):\n",
        "    advect1(z, dt)"
      ],
      "metadata": {
        "id": "I3dD4VPhbG5r"
      },
      "execution_count": 8,
      "outputs": []
    },
    {
      "cell_type": "code",
      "source": [
        "# display some parameters\n",
        "print('dx = ', dx, '\\n'\n",
        "      'dx = ', dx, '\\n'\n",
        "      'vx = ', vx, '\\n'\n",
        "      'vy = ', vy, '\\n'\n",
        "      'Cr = ', Cr, '\\n'\n",
        "      'dt = dtAdv = ', dt, '\\n'\n",
        "      'stepsNbr = ', stepsNbr)"
      ],
      "metadata": {
        "colab": {
          "base_uri": "https://localhost:8080/"
        },
        "id": "xcUXAjZGbMRV",
        "outputId": "1c7d2177-fe44-4dae-94c1-c6187cc95f2d"
      },
      "execution_count": 9,
      "outputs": [
        {
          "output_type": "stream",
          "name": "stdout",
          "text": [
            "dx =  1.00e+01 \n",
            "dx =  1.00e+01 \n",
            "vx =  2.0 \n",
            "vy =  2.0 \n",
            "Cr =  0.8 \n",
            "dt = dtAdv =  4.00e+00 \n",
            "stepsNbr =  75\n"
          ]
        }
      ]
    },
    {
      "cell_type": "code",
      "source": [
        "# ploting the unkown's initial distribution\n",
        "viewer = Viewer(vars = (zInit),\n",
        "                datamin = zInit.min()-.1,\n",
        "                datamax = zInit.max()+.1)\n",
        "viewer.plot()"
      ],
      "metadata": {
        "colab": {
          "base_uri": "https://localhost:8080/",
          "height": 435
        },
        "id": "o4I5QYxbbTgZ",
        "outputId": "f82c6073-3a0f-4248-8983-d9b8c22a3c38"
      },
      "execution_count": 10,
      "outputs": [
        {
          "output_type": "display_data",
          "data": {
            "text/plain": [
              "<Figure size 600x480 with 2 Axes>"
            ],
            "image/png": "[encoded data removed]"
          },
          "metadata": {}
        }
      ]
    },
    {
      "cell_type": "code",
      "execution_count": 11,
      "metadata": {
        "colab": {
          "base_uri": "https://localhost:8080/",
          "height": 452
        },
        "id": "vZMZ63bI-1fi",
        "outputId": "fe898247-9a07-4f39-c842-050c38d1f1e8"
      },
      "outputs": [
        {
          "output_type": "stream",
          "name": "stdout",
          "text": [
            "After 300.0  (sec)\n"
          ]
        },
        {
          "output_type": "display_data",
          "data": {
            "text/plain": [
              "<Figure size 600x480 with 2 Axes>"
            ],
            "image/png": "[encoded data removed]"
          },
          "metadata": {}
        }
      ],
      "source": [
        "# ploting the unkown's final distribution\n",
        "print('After', dt*stepsNbr, ' (sec)')\n",
        "viewer = Viewer(vars = (z),\n",
        "                datamin = z.min()-.1,\n",
        "                datamax = z.max()+.1)\n",
        "viewer.plot()"
      ]
    }
  ]
}