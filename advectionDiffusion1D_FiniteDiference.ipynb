{
  "nbformat": 4,
  "nbformat_minor": 0,
  "metadata": {
    "colab": {
      "provenance": [],
      "authorship_tag": "ABX9TyP/jXrkQuIFa9bSnpslG5m2",
      "include_colab_link": true
    },
    "kernelspec": {
      "name": "python3",
      "display_name": "Python 3"
    },
    "language_info": {
      "name": "python"
    }
  },
  "cells": [
    {
      "cell_type": "markdown",
      "metadata": {
        "id": "view-in-github",
        "colab_type": "text"
      },
      "source": [
        "<a href=\"https://colab.research.google.com/github/Tahimi/convectionDiffusion/blob/main/advectionDiffusion1D_FiniteDiference.ipynb\" target=\"_parent\"><img src=\"https://colab.research.google.com/assets/colab-badge.svg\" alt=\"Open In Colab\"/></a>"
      ]
    },
    {
      "cell_type": "code",
      "source": [
        "import numpy as np"
      ],
      "metadata": {
        "id": "HOpEcAk9xtQ3"
      },
      "execution_count": 1,
      "outputs": []
    },
    {
      "cell_type": "code",
      "source": [
        "# space discretization\n",
        "xL = 0.\n",
        "xR = 10.\n",
        "dx = 0.1\n",
        "delX = xR - xL\n",
        "nx = int(delX/dx)\n",
        "x = np.linspace(xL, xR, nx+1)"
      ],
      "metadata": {
        "id": "CJlSo2wOxvvP"
      },
      "execution_count": 2,
      "outputs": []
    },
    {
      "cell_type": "code",
      "source": [
        "# time discretization\n",
        "# advection\n",
        "Cr = 0.2 # Courant Number: Cr = u*dt/dx\n",
        "u = 20.\n",
        "dtAdv = Cr*dx/u\n",
        "# diffusion\n",
        "Fr = 0.4 # Fourier Number: Fr = D*dt/dx**2\n",
        "D = 4.\n",
        "dtDiff = Fr*dx**2/D\n",
        "# advectionDiffusion\n",
        "dt = min(dtAdv, dtDiff)\n",
        "print('dtAdv = ', dtAdv, '\\n'\n",
        "      'dtDiff = ', dtDiff, '\\n'\n",
        "      'dt = min(dtAdv, dtDiff) = ', dt)\n",
        "# simulation time\n",
        "delT = 0.3\n",
        "stepsNbr = int(delT/dt)"
      ],
      "metadata": {
        "colab": {
          "base_uri": "https://localhost:8080/"
        },
        "id": "EKLsqlA2xxgc",
        "outputId": "111c3f71-8d71-427c-d4ab-8d0422d79852"
      },
      "execution_count": 3,
      "outputs": [
        {
          "output_type": "stream",
          "name": "stdout",
          "text": [
            "dtAdv =  0.0010000000000000002 \n",
            "dtDiff =  0.0010000000000000002 \n",
            "dt = min(dtAdv, dtDiff) =  0.0010000000000000002\n"
          ]
        }
      ]
    },
    {
      "cell_type": "code",
      "source": [
        "# defining the unkown's distribution\n",
        "def yInit_(x, yMin, yMax, xc, width, isRectangular = True):\n",
        "  if isRectangular:\n",
        "    # rectangular distribuition\n",
        "    return np.array([yMax if xc-width < xi and xi < xc+width else yMin for xi in x])\n",
        "  else:\n",
        "    # Gaussian distribuition\n",
        "    return yMin + yMax * np.exp(-(x - xc) ** 2 / (2 * width ** 2))"
      ],
      "metadata": {
        "id": "N1guFPGFyRO-"
      },
      "execution_count": 4,
      "outputs": []
    },
    {
      "cell_type": "code",
      "source": [
        "# initialization\n",
        "yMin = 0.\n",
        "yMax = 1.\n",
        "xc = 2.5\n",
        "width = 0.5\n",
        "\n",
        "def initialize():\n",
        "    # unkown's initialization\n",
        "    global x, yMin, yMax, xc, width, yInit, y\n",
        "    yInit = yInit_(x=x,\n",
        "                   yMin=yMin,\n",
        "                   yMax=yMax,\n",
        "                   xc=xc,\n",
        "                   width=width,\n",
        "                   isRectangular = False)\n",
        "    y = np.copy(yInit)"
      ],
      "metadata": {
        "id": "sbOVRfFTyW9u"
      },
      "execution_count": 5,
      "outputs": []
    },
    {
      "cell_type": "code",
      "source": [
        "# defining the time-step update function\n",
        "# oneStepExplicitFirstOrderAdvectionDiffusion\n",
        "def advectAndDiffuse(yIN, Cr, Fr):\n",
        "  # only valid for, u > 0\n",
        "  yOUT = np.zeros_like(yIN)\n",
        "  # internal points\n",
        "  for i in range(1,len(x)-1):\n",
        "    yOUT[i] = (Cr+Fr)*yIN[i-1] + (1.-Cr-2*Fr)*yIN[i] + Fr*yIN[i+1]\n",
        "  # second order accurate diffusion at upstream BC\n",
        "  yOUT[0] = (1.-2*Fr)*yIN[0] + 2.*Fr*yIN[1]\n",
        "  # absorbing BC at downstream BC\n",
        "  yOUT[-1] = Cr*yIN[-2] + (1.-Cr)*yIN[-1]\n",
        "  return yOUT"
      ],
      "metadata": {
        "id": "kZAJq6YDystJ"
      },
      "execution_count": 6,
      "outputs": []
    },
    {
      "cell_type": "code",
      "source": [
        "# displaying some parameters\n",
        "print('dx = ', dx, '\\n'\n",
        "      'delX = ', delX, '\\n'\n",
        "      'nx = ', nx, '\\n'\n",
        "      'Cr = ', Cr, '\\n'\n",
        "      'u = ', u, '\\n'\n",
        "      'dtAdv = ', dtAdv, '\\n'\n",
        "      'Fr = ', Fr, '\\n'\n",
        "      'D = ', D, '\\n'\n",
        "      'dtDiff = ', dtDiff, '\\n'\n",
        "      'dt = min(dtAdv,dtDiff) = ', dt, '\\n'\n",
        "      'delT = ', delT, '\\n'\n",
        "      'stepsNbr = ', stepsNbr)"
      ],
      "metadata": {
        "colab": {
          "base_uri": "https://localhost:8080/"
        },
        "id": "JaewmstKzNM-",
        "outputId": "7f7b8b1b-6138-449d-82fa-32ccab631990"
      },
      "execution_count": 7,
      "outputs": [
        {
          "output_type": "stream",
          "name": "stdout",
          "text": [
            "dx =  0.1 \n",
            "delX =  10.0 \n",
            "nx =  100 \n",
            "Cr =  0.2 \n",
            "u =  20.0 \n",
            "dtAdv =  0.0010000000000000002 \n",
            "Fr =  0.4 \n",
            "D =  4.0 \n",
            "dtDiff =  0.0010000000000000002 \n",
            "dt = min(dtAdv,dtDiff) =  0.0010000000000000002 \n",
            "delT =  0.3 \n",
            "stepsNbr =  299\n"
          ]
        }
      ]
    },
    {
      "cell_type": "code",
      "execution_count": 8,
      "metadata": {
        "id": "PxyWq5Zaw9oe"
      },
      "outputs": [],
      "source": [
        "# initialize and iterate in time\n",
        "initialize()\n",
        "for step in range(stepsNbr):\n",
        "  y = advectAndDiffuse(y, Cr, Fr)"
      ]
    },
    {
      "cell_type": "code",
      "source": [
        "#ploting the simulation results\n",
        "import matplotlib.pyplot as plt\n",
        "plt.style.use(\"ggplot\")\n",
        "plt.xticks(np.arange(xL, xR+.1, 1))\n",
        "plt.yticks(np.arange(yMin, yMax+.1, .1))\n",
        "plt.plot(x, yInit, label='yInit')\n",
        "yImag = yInit_(x=x,\n",
        "               yMin=yMin,\n",
        "               yMax=yMax,\n",
        "               xc=xc+u*delT,\n",
        "               width=width,\n",
        "               isRectangular = False)\n",
        "plt.plot(x, yImag, '--', label='yImag')\n",
        "plt.plot(x, y, label='y')\n",
        "plt.legend()\n",
        "plt.show()"
      ],
      "metadata": {
        "colab": {
          "base_uri": "https://localhost:8080/",
          "height": 430
        },
        "id": "pRihB30txabj",
        "outputId": "6cbdf4e0-182b-4319-d386-e6ad3f96b553"
      },
      "execution_count": 9,
      "outputs": [
        {
          "output_type": "display_data",
          "data": {
            "text/plain": [
              "<Figure size 640x480 with 1 Axes>"
            ],
            "image/png": "[encoded data removed]"
          },
          "metadata": {}
        }
      ]
    }
  ]
}